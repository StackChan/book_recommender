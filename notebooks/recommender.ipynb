{
 "cells": [
  {
   "cell_type": "code",
   "execution_count": 1,
   "metadata": {},
   "outputs": [],
   "source": [
    "import math\n",
    "import numpy as np\n",
    "import pandas as pd\n",
    "import matplotlib.pyplot as plt"
   ]
  },
  {
   "cell_type": "markdown",
   "metadata": {},
   "source": [
    "## Prepare dataset where users are entity & books are features\n",
    "### Read ratings data\n"
   ]
  },
  {
   "cell_type": "code",
   "execution_count": 2,
   "metadata": {},
   "outputs": [],
   "source": [
    "ratings = pd.read_csv(\"data/ratings.csv\")\n",
    "n_users = ratings.user_id.unique().shape[0] # 53424 users\n",
    "n_books = ratings.book_id.unique().shape[0] # 10000 books"
   ]
  },
  {
   "cell_type": "code",
   "execution_count": 3,
   "metadata": {},
   "outputs": [
    {
     "data": {
      "text/html": [
       "<div>\n",
       "<style scoped>\n",
       "    .dataframe tbody tr th:only-of-type {\n",
       "        vertical-align: middle;\n",
       "    }\n",
       "\n",
       "    .dataframe tbody tr th {\n",
       "        vertical-align: top;\n",
       "    }\n",
       "\n",
       "    .dataframe thead th {\n",
       "        text-align: right;\n",
       "    }\n",
       "</style>\n",
       "<table border=\"1\" class=\"dataframe\">\n",
       "  <thead>\n",
       "    <tr style=\"text-align: right;\">\n",
       "      <th></th>\n",
       "      <th>book_id</th>\n",
       "      <th>user_id</th>\n",
       "      <th>rating</th>\n",
       "    </tr>\n",
       "  </thead>\n",
       "  <tbody>\n",
       "    <tr>\n",
       "      <th>0</th>\n",
       "      <td>1</td>\n",
       "      <td>314</td>\n",
       "      <td>5</td>\n",
       "    </tr>\n",
       "    <tr>\n",
       "      <th>1</th>\n",
       "      <td>1</td>\n",
       "      <td>439</td>\n",
       "      <td>3</td>\n",
       "    </tr>\n",
       "    <tr>\n",
       "      <th>2</th>\n",
       "      <td>1</td>\n",
       "      <td>588</td>\n",
       "      <td>5</td>\n",
       "    </tr>\n",
       "    <tr>\n",
       "      <th>3</th>\n",
       "      <td>1</td>\n",
       "      <td>1169</td>\n",
       "      <td>4</td>\n",
       "    </tr>\n",
       "    <tr>\n",
       "      <th>4</th>\n",
       "      <td>1</td>\n",
       "      <td>1185</td>\n",
       "      <td>4</td>\n",
       "    </tr>\n",
       "    <tr>\n",
       "      <th>...</th>\n",
       "      <td>...</td>\n",
       "      <td>...</td>\n",
       "      <td>...</td>\n",
       "    </tr>\n",
       "    <tr>\n",
       "      <th>981751</th>\n",
       "      <td>10000</td>\n",
       "      <td>48386</td>\n",
       "      <td>5</td>\n",
       "    </tr>\n",
       "    <tr>\n",
       "      <th>981752</th>\n",
       "      <td>10000</td>\n",
       "      <td>49007</td>\n",
       "      <td>4</td>\n",
       "    </tr>\n",
       "    <tr>\n",
       "      <th>981753</th>\n",
       "      <td>10000</td>\n",
       "      <td>49383</td>\n",
       "      <td>5</td>\n",
       "    </tr>\n",
       "    <tr>\n",
       "      <th>981754</th>\n",
       "      <td>10000</td>\n",
       "      <td>50124</td>\n",
       "      <td>5</td>\n",
       "    </tr>\n",
       "    <tr>\n",
       "      <th>981755</th>\n",
       "      <td>10000</td>\n",
       "      <td>51328</td>\n",
       "      <td>1</td>\n",
       "    </tr>\n",
       "  </tbody>\n",
       "</table>\n",
       "<p>981756 rows × 3 columns</p>\n",
       "</div>"
      ],
      "text/plain": [
       "        book_id  user_id  rating\n",
       "0             1      314       5\n",
       "1             1      439       3\n",
       "2             1      588       5\n",
       "3             1     1169       4\n",
       "4             1     1185       4\n",
       "...         ...      ...     ...\n",
       "981751    10000    48386       5\n",
       "981752    10000    49007       4\n",
       "981753    10000    49383       5\n",
       "981754    10000    50124       5\n",
       "981755    10000    51328       1\n",
       "\n",
       "[981756 rows x 3 columns]"
      ]
     },
     "execution_count": 3,
     "metadata": {},
     "output_type": "execute_result"
    }
   ],
   "source": [
    "ratings"
   ]
  },
  {
   "cell_type": "code",
   "execution_count": 4,
   "metadata": {},
   "outputs": [
    {
     "name": "stdout",
     "output_type": "stream",
     "text": [
      "The database contains ratings from 53424 users for 10000 books.\n"
     ]
    }
   ],
   "source": [
    "print(\"The database contains ratings from\", n_users, \"users for\", n_books, \"books.\")"
   ]
  },
  {
   "cell_type": "markdown",
   "metadata": {},
   "source": [
    "### Ceate user-book matrix of ratings"
   ]
  },
  {
   "cell_type": "code",
   "execution_count": 5,
   "metadata": {},
   "outputs": [
    {
     "name": "stdout",
     "output_type": "stream",
     "text": [
      "<class 'numpy.ndarray'>\n"
     ]
    }
   ],
   "source": [
    "data_matrix = np.zeros((n_users, n_books))\n",
    "for line in ratings.itertuples():\n",
    "    # equivalent to user_id as row, book_id as col, ratings as values in the matrix\n",
    "    data_matrix[line[2]-1, line[1]-1] = line[3]\n",
    "print(type(data_matrix))"
   ]
  },
  {
   "cell_type": "markdown",
   "metadata": {},
   "source": [
    "### Explore how many books each user rates"
   ]
  },
  {
   "cell_type": "code",
   "execution_count": 6,
   "metadata": {},
   "outputs": [],
   "source": [
    "user_row = 23 # set user row here, this will serve as argument in method"
   ]
  },
  {
   "cell_type": "code",
   "execution_count": 7,
   "metadata": {},
   "outputs": [
    {
     "name": "stdout",
     "output_type": "stream",
     "text": [
      "17\n"
     ]
    }
   ],
   "source": [
    "    n_books_rated = 0\n",
    "    for book in range(0, n_books):\n",
    "        if data_matrix[user_row, book] != 0:\n",
    "            n_books_rated += 1\n",
    "    print(n_books_rated)"
   ]
  },
  {
   "cell_type": "code",
   "execution_count": 8,
   "metadata": {},
   "outputs": [
    {
     "data": {
      "text/plain": [
       "17"
      ]
     },
     "execution_count": 8,
     "metadata": {},
     "output_type": "execute_result"
    }
   ],
   "source": [
    "np.count_nonzero(data_matrix[user_row])"
   ]
  },
  {
   "cell_type": "markdown",
   "metadata": {},
   "source": [
    "### Split users who rated more than 50 books, i.e. 0.5% of 10k, to be considered as \"recommender\"\n",
    "### Calculate how many books each of all users rated"
   ]
  },
  {
   "cell_type": "code",
   "execution_count": 9,
   "metadata": {},
   "outputs": [],
   "source": [
    "    books_rated = np.zeros(n_users)\n",
    "    for user in range(0, n_users):\n",
    "        books_rated[user] = np.count_nonzero(data_matrix[user])"
   ]
  },
  {
   "cell_type": "code",
   "execution_count": 10,
   "metadata": {},
   "outputs": [
    {
     "data": {
      "text/plain": [
       "(array([17765., 11285.,  5856.,  3906.,  2768.,  2074.,  2969.,  1893.,\n",
       "         1253.,  1595.,   866.,  1194.]),\n",
       " array([  0,   5,  10,  15,  20,  25,  30,  40,  50,  60,  80, 100, 200]),\n",
       " <a list of 12 Patch objects>)"
      ]
     },
     "execution_count": 10,
     "metadata": {},
     "output_type": "execute_result"
    },
    {
     "data": {
      "image/png": "[encoded data removed]",
      "text/plain": [
       "<Figure size 1080x360 with 1 Axes>"
      ]
     },
     "metadata": {
      "needs_background": "light"
     },
     "output_type": "display_data"
    }
   ],
   "source": [
    "    plt.figure(figsize=(15,5))\n",
    "    plt.hist(books_rated, bins = [0, 5, 10, 15, 20, 25, 30, 40, 50, 60, 80, 100, 200])"
   ]
  },
  {
   "cell_type": "code",
   "execution_count": 11,
   "metadata": {},
   "outputs": [],
   "source": [
    "    recommender = []\n",
    "    # recommendee = []\n",
    "    for user in range(0, n_users):\n",
    "        if np.count_nonzero(data_matrix[user]) > 50:\n",
    "            recommender.append(data_matrix[user])\n",
    "        # else:\n",
    "            # recommendee.append(data_matrix[user])"
   ]
  },
  {
   "cell_type": "code",
   "execution_count": 12,
   "metadata": {},
   "outputs": [
    {
     "name": "stdout",
     "output_type": "stream",
     "text": [
      "There are selected 4767 users to be recommenders.\n"
     ]
    }
   ],
   "source": [
    "    n_recommenders = len(recommender)\n",
    "    # n_recommendees = len(recommendee)\n",
    "    # print(\"split users to\", n_recommenders, \"recommenders and\", n_recommendees, \"recommendees\")\n",
    "    print(\"There are selected\", n_recommenders, \"users to be recommenders.\")"
   ]
  },
  {
   "cell_type": "markdown",
   "metadata": {},
   "source": [
    "## Find cosine similarities between users\n",
    "\n",
    "##### \\begin{equation} cos(\\pmb u, \\pmb v) = \\frac {\\pmb u \\cdot \\pmb v}{||\\pmb u|| \\cdot ||\\pmb v||} \\end{equation}\n"
   ]
  },
  {
   "cell_type": "markdown",
   "metadata": {},
   "source": [
    "### Calculate magnitude of vector"
   ]
  },
  {
   "cell_type": "code",
   "execution_count": 13,
   "metadata": {},
   "outputs": [
    {
     "data": {
      "text/plain": [
       "33.689761055846034"
      ]
     },
     "execution_count": 13,
     "metadata": {},
     "output_type": "execute_result"
    }
   ],
   "source": [
    "np.linalg.norm(recommender[0]) # in case of numpy array"
   ]
  },
  {
   "cell_type": "code",
   "execution_count": 14,
   "metadata": {},
   "outputs": [],
   "source": [
    "def vector_magnitude(u):\n",
    "    # u is 1d numpy array\n",
    "    out = 0\n",
    "    for j in range(1, len(u)):\n",
    "        out += u[j]**2\n",
    "    return math.sqrt(out)"
   ]
  },
  {
   "cell_type": "code",
   "execution_count": 15,
   "metadata": {},
   "outputs": [
    {
     "data": {
      "text/plain": [
       "33.689761055846034"
      ]
     },
     "execution_count": 15,
     "metadata": {},
     "output_type": "execute_result"
    }
   ],
   "source": [
    "vector_magnitude(recommender[0])"
   ]
  },
  {
   "cell_type": "markdown",
   "metadata": {},
   "source": [
    "### Calculate dot product of two vectors"
   ]
  },
  {
   "cell_type": "code",
   "execution_count": 16,
   "metadata": {},
   "outputs": [
    {
     "data": {
      "text/plain": [
       "887.0"
      ]
     },
     "execution_count": 16,
     "metadata": {},
     "output_type": "execute_result"
    }
   ],
   "source": [
    "np.dot(recommender[2000], recommender[2000]) # in case of numpy array"
   ]
  },
  {
   "cell_type": "code",
   "execution_count": 17,
   "metadata": {},
   "outputs": [],
   "source": [
    "def dot_product(u, v):\n",
    "    out = 0\n",
    "    for j in range(1, len(u)):\n",
    "        out += u[j]*v[j]\n",
    "    return out"
   ]
  },
  {
   "cell_type": "code",
   "execution_count": 18,
   "metadata": {},
   "outputs": [
    {
     "data": {
      "text/plain": [
       "887.0"
      ]
     },
     "execution_count": 18,
     "metadata": {},
     "output_type": "execute_result"
    }
   ],
   "source": [
    "dot_product(recommender[2000], recommender[2000])"
   ]
  },
  {
   "cell_type": "markdown",
   "metadata": {},
   "source": [
    "### Calculate cosine similarity between two users, i.e. two vectors of each user ratings"
   ]
  },
  {
   "cell_type": "code",
   "execution_count": 19,
   "metadata": {},
   "outputs": [],
   "source": [
    "def cos_similar(u, v):\n",
    "    # return dot_product(u, v)/vector_magnitude(u)/vector_magnitude(v)\n",
    "    ss_u = 0\n",
    "    ss_v = 0\n",
    "    enum = 0\n",
    "    for j in range(1, len(u)):\n",
    "        ss_u += (u[j]**2)\n",
    "        ss_v += (v[j]**2)\n",
    "        enum += u[j]*v[j]\n",
    "    return enum/math.sqrt(ss_u)/math.sqrt(ss_v)"
   ]
  },
  {
   "cell_type": "code",
   "execution_count": 20,
   "metadata": {},
   "outputs": [
    {
     "data": {
      "text/plain": [
       "0.9999999999999999"
      ]
     },
     "execution_count": 20,
     "metadata": {},
     "output_type": "execute_result"
    }
   ],
   "source": [
    "cos_similar(recommender[2000], recommender[2000]) # similarity of itself"
   ]
  },
  {
   "cell_type": "code",
   "execution_count": 21,
   "metadata": {},
   "outputs": [
    {
     "data": {
      "text/plain": [
       "0.007188899706974858"
      ]
     },
     "execution_count": 21,
     "metadata": {},
     "output_type": "execute_result"
    }
   ],
   "source": [
    "cos_similar(recommender[2000], recommender[2001]) # similarity to other"
   ]
  },
  {
   "cell_type": "markdown",
   "metadata": {},
   "source": [
    "### Find the k most similar recommenders of a given recommendee"
   ]
  },
  {
   "cell_type": "code",
   "execution_count": 22,
   "metadata": {},
   "outputs": [],
   "source": [
    "user_row = 23 # set user row here"
   ]
  },
  {
   "cell_type": "code",
   "execution_count": 23,
   "metadata": {},
   "outputs": [],
   "source": [
    "    similar = np.zeros(n_recommenders)\n",
    "    for user in range(0, n_recommenders):\n",
    "        similar[user] = cos_similar(data_matrix[user_row], recommender[user])"
   ]
  },
  {
   "cell_type": "code",
   "execution_count": 24,
   "metadata": {},
   "outputs": [
    {
     "name": "stdout",
     "output_type": "stream",
     "text": [
      "This user read 17 books.\n",
      "There are 349 users that read at least one same book as this user.\n"
     ]
    }
   ],
   "source": [
    "print(\"This user read\", np.count_nonzero(data_matrix[user_row]), \"books.\")\n",
    "print(\"There are\", np.count_nonzero(similar), \"users that read at least one same book as this user.\")"
   ]
  },
  {
   "cell_type": "code",
   "execution_count": 25,
   "metadata": {},
   "outputs": [
    {
     "data": {
      "text/plain": [
       "(array([  4.,  57., 119., 122.,  41.,   6.]),\n",
       " array([0.005, 0.01 , 0.02 , 0.03 , 0.05 , 0.1  , 1.   ]),\n",
       " <a list of 6 Patch objects>)"
      ]
     },
     "execution_count": 25,
     "metadata": {},
     "output_type": "execute_result"
    },
    {
     "data": {
      "image/png": "[encoded data removed]",
      "text/plain": [
       "<Figure size 432x288 with 1 Axes>"
      ]
     },
     "metadata": {
      "needs_background": "light"
     },
     "output_type": "display_data"
    }
   ],
   "source": [
    "plt.hist(similar, bins = [0.005, 0.01, 0.02, 0.03, 0.05, 0.1, 1])"
   ]
  },
  {
   "cell_type": "code",
   "execution_count": 26,
   "metadata": {},
   "outputs": [
    {
     "data": {
      "text/plain": [
       "0.17501553461262695"
      ]
     },
     "execution_count": 26,
     "metadata": {},
     "output_type": "execute_result"
    }
   ],
   "source": [
    "max(similar) # the highest cosine similarity"
   ]
  },
  {
   "cell_type": "code",
   "execution_count": 27,
   "metadata": {},
   "outputs": [
    {
     "name": "stdout",
     "output_type": "stream",
     "text": [
      "3067\n"
     ]
    }
   ],
   "source": [
    "most_similar = np.where(similar == max(similar))[0][0] # the index of the most similar user (recommenders)\n",
    "print(most_similar)"
   ]
  },
  {
   "cell_type": "code",
   "execution_count": 28,
   "metadata": {},
   "outputs": [
    {
     "name": "stdout",
     "output_type": "stream",
     "text": [
      "[  65  781 1685 2550 3067 3562]\n"
     ]
    }
   ],
   "source": [
    "top_similar = np.where(similar > 0.1)[0] # top similar users\n",
    "print(top_similar)"
   ]
  },
  {
   "cell_type": "code",
   "execution_count": 29,
   "metadata": {},
   "outputs": [
    {
     "name": "stdout",
     "output_type": "stream",
     "text": [
      "The most similar users/recommenders read 57 books.\n",
      "Other similar users/recommenders read 64 books.\n",
      "Other similar users/recommenders read 72 books.\n",
      "Other similar users/recommenders read 72 books.\n",
      "Other similar users/recommenders read 53 books.\n",
      "Other similar users/recommenders read 52 books.\n"
     ]
    }
   ],
   "source": [
    "print(\"The most similar users/recommenders read\", np.count_nonzero(recommender[most_similar]), \"books.\")\n",
    "for user in top_similar:\n",
    "    if user != most_similar:\n",
    "        print(\"Other similar users/recommenders read\", np.count_nonzero(recommender[user]), \"books.\")"
   ]
  },
  {
   "cell_type": "markdown",
   "metadata": {},
   "source": [
    "## Find books highly rated by similar users\n",
    "### Explore book ratings by k most similar users/recommenders"
   ]
  },
  {
   "cell_type": "code",
   "execution_count": 30,
   "metadata": {},
   "outputs": [
    {
     "data": {
      "text/plain": [
       "(array([ 0.,  0.,  8., 21., 28.]),\n",
       " array([1, 2, 3, 4, 5, 6]),\n",
       " <a list of 5 Patch objects>)"
      ]
     },
     "execution_count": 30,
     "metadata": {},
     "output_type": "execute_result"
    },
    {
     "data": {
      "image/png": "[encoded data removed]",
      "text/plain": [
       "<Figure size 432x288 with 1 Axes>"
      ]
     },
     "metadata": {
      "needs_background": "light"
     },
     "output_type": "display_data"
    }
   ],
   "source": [
    "plt.hist(recommender[most_similar], bins = [1,2,3,4,5,6]) # still books with high ratings, still need to narrow down"
   ]
  },
  {
   "cell_type": "markdown",
   "metadata": {},
   "source": [
    "### Average book ratings among top similar users"
   ]
  },
  {
   "cell_type": "code",
   "execution_count": 31,
   "metadata": {},
   "outputs": [
    {
     "data": {
      "text/plain": [
       "(array([48., 14.,  1.,  0.,  0.]),\n",
       " array([1, 2, 3, 4, 5, 6]),\n",
       " <a list of 5 Patch objects>)"
      ]
     },
     "execution_count": 31,
     "metadata": {},
     "output_type": "execute_result"
    },
    {
     "data": {
      "image/png": "[encoded data removed]",
      "text/plain": [
       "<Figure size 432x288 with 1 Axes>"
      ]
     },
     "metadata": {
      "needs_background": "light"
     },
     "output_type": "display_data"
    }
   ],
   "source": [
    "books_rating = np.zeros(n_books)\n",
    "for user in top_similar:\n",
    "    books_rating += recommender[user]/len(top_similar)\n",
    "plt.hist(books_rating, bins = [1,2,3,4,5,6])"
   ]
  },
  {
   "cell_type": "code",
   "execution_count": 32,
   "metadata": {},
   "outputs": [
    {
     "name": "stdout",
     "output_type": "stream",
     "text": [
      "3141\n"
     ]
    }
   ],
   "source": [
    "best_book = np.where(books_rating == max(books_rating))[0][0]\n",
    "print(best_book)"
   ]
  },
  {
   "cell_type": "markdown",
   "metadata": {},
   "source": [
    "### Retain the highly rated books"
   ]
  },
  {
   "cell_type": "code",
   "execution_count": 33,
   "metadata": {},
   "outputs": [
    {
     "name": "stdout",
     "output_type": "stream",
     "text": [
      "[2173 2294 3141 3487 4604 4938 4982 5377 5424 5436 5753 5907 6437 6876\n",
      " 6995] 15\n"
     ]
    }
   ],
   "source": [
    "good_book = np.where(books_rating > max(books_rating)/2)[0]\n",
    "print(good_book, len(good_book))"
   ]
  },
  {
   "cell_type": "markdown",
   "metadata": {},
   "source": [
    "### Identify books which the user already read (to be removed from recommendation list)"
   ]
  },
  {
   "cell_type": "code",
   "execution_count": 34,
   "metadata": {},
   "outputs": [
    {
     "name": "stdout",
     "output_type": "stream",
     "text": [
      "[2319 3141 3309 3487 4148 4604 4982 5326 6017 6172 6437 6534 6908 7261\n",
      " 7408 7769 7867]\n"
     ]
    }
   ],
   "source": [
    "read_book = np.where(data_matrix[user_row] != 0)[0]\n",
    "print(read_book)"
   ]
  },
  {
   "cell_type": "markdown",
   "metadata": {},
   "source": [
    "### Read books data to match with book id"
   ]
  },
  {
   "cell_type": "code",
   "execution_count": 35,
   "metadata": {},
   "outputs": [
    {
     "data": {
      "text/html": [
       "<div>\n",
       "<style scoped>\n",
       "    .dataframe tbody tr th:only-of-type {\n",
       "        vertical-align: middle;\n",
       "    }\n",
       "\n",
       "    .dataframe tbody tr th {\n",
       "        vertical-align: top;\n",
       "    }\n",
       "\n",
       "    .dataframe thead th {\n",
       "        text-align: right;\n",
       "    }\n",
       "</style>\n",
       "<table border=\"1\" class=\"dataframe\">\n",
       "  <thead>\n",
       "    <tr style=\"text-align: right;\">\n",
       "      <th></th>\n",
       "      <th>id</th>\n",
       "      <th>book_id</th>\n",
       "      <th>best_book_id</th>\n",
       "      <th>work_id</th>\n",
       "      <th>books_count</th>\n",
       "      <th>isbn</th>\n",
       "      <th>isbn13</th>\n",
       "      <th>authors</th>\n",
       "      <th>original_publication_year</th>\n",
       "      <th>original_title</th>\n",
       "      <th>...</th>\n",
       "      <th>ratings_count</th>\n",
       "      <th>work_ratings_count</th>\n",
       "      <th>work_text_reviews_count</th>\n",
       "      <th>ratings_1</th>\n",
       "      <th>ratings_2</th>\n",
       "      <th>ratings_3</th>\n",
       "      <th>ratings_4</th>\n",
       "      <th>ratings_5</th>\n",
       "      <th>image_url</th>\n",
       "      <th>small_image_url</th>\n",
       "    </tr>\n",
       "  </thead>\n",
       "  <tbody>\n",
       "    <tr>\n",
       "      <th>0</th>\n",
       "      <td>1</td>\n",
       "      <td>2767052</td>\n",
       "      <td>2767052</td>\n",
       "      <td>2792775</td>\n",
       "      <td>272</td>\n",
       "      <td>439023483</td>\n",
       "      <td>9.780439e+12</td>\n",
       "      <td>Suzanne Collins</td>\n",
       "      <td>2008.0</td>\n",
       "      <td>The Hunger Games</td>\n",
       "      <td>...</td>\n",
       "      <td>4780653</td>\n",
       "      <td>4942365</td>\n",
       "      <td>155254</td>\n",
       "      <td>66715</td>\n",
       "      <td>127936</td>\n",
       "      <td>560092</td>\n",
       "      <td>1481305</td>\n",
       "      <td>2706317</td>\n",
       "      <td>https://images.gr-assets.com/books/1447303603m...</td>\n",
       "      <td>https://images.gr-assets.com/books/1447303603s...</td>\n",
       "    </tr>\n",
       "    <tr>\n",
       "      <th>1</th>\n",
       "      <td>2</td>\n",
       "      <td>3</td>\n",
       "      <td>3</td>\n",
       "      <td>4640799</td>\n",
       "      <td>491</td>\n",
       "      <td>439554934</td>\n",
       "      <td>9.780440e+12</td>\n",
       "      <td>J.K. Rowling, Mary GrandPré</td>\n",
       "      <td>1997.0</td>\n",
       "      <td>Harry Potter and the Philosopher's Stone</td>\n",
       "      <td>...</td>\n",
       "      <td>4602479</td>\n",
       "      <td>4800065</td>\n",
       "      <td>75867</td>\n",
       "      <td>75504</td>\n",
       "      <td>101676</td>\n",
       "      <td>455024</td>\n",
       "      <td>1156318</td>\n",
       "      <td>3011543</td>\n",
       "      <td>https://images.gr-assets.com/books/1474154022m...</td>\n",
       "      <td>https://images.gr-assets.com/books/1474154022s...</td>\n",
       "    </tr>\n",
       "    <tr>\n",
       "      <th>2</th>\n",
       "      <td>3</td>\n",
       "      <td>41865</td>\n",
       "      <td>41865</td>\n",
       "      <td>3212258</td>\n",
       "      <td>226</td>\n",
       "      <td>316015849</td>\n",
       "      <td>9.780316e+12</td>\n",
       "      <td>Stephenie Meyer</td>\n",
       "      <td>2005.0</td>\n",
       "      <td>Twilight</td>\n",
       "      <td>...</td>\n",
       "      <td>3866839</td>\n",
       "      <td>3916824</td>\n",
       "      <td>95009</td>\n",
       "      <td>456191</td>\n",
       "      <td>436802</td>\n",
       "      <td>793319</td>\n",
       "      <td>875073</td>\n",
       "      <td>1355439</td>\n",
       "      <td>https://images.gr-assets.com/books/1361039443m...</td>\n",
       "      <td>https://images.gr-assets.com/books/1361039443s...</td>\n",
       "    </tr>\n",
       "    <tr>\n",
       "      <th>3</th>\n",
       "      <td>4</td>\n",
       "      <td>2657</td>\n",
       "      <td>2657</td>\n",
       "      <td>3275794</td>\n",
       "      <td>487</td>\n",
       "      <td>61120081</td>\n",
       "      <td>9.780061e+12</td>\n",
       "      <td>Harper Lee</td>\n",
       "      <td>1960.0</td>\n",
       "      <td>To Kill a Mockingbird</td>\n",
       "      <td>...</td>\n",
       "      <td>3198671</td>\n",
       "      <td>3340896</td>\n",
       "      <td>72586</td>\n",
       "      <td>60427</td>\n",
       "      <td>117415</td>\n",
       "      <td>446835</td>\n",
       "      <td>1001952</td>\n",
       "      <td>1714267</td>\n",
       "      <td>https://images.gr-assets.com/books/1361975680m...</td>\n",
       "      <td>https://images.gr-assets.com/books/1361975680s...</td>\n",
       "    </tr>\n",
       "    <tr>\n",
       "      <th>4</th>\n",
       "      <td>5</td>\n",
       "      <td>4671</td>\n",
       "      <td>4671</td>\n",
       "      <td>245494</td>\n",
       "      <td>1356</td>\n",
       "      <td>743273567</td>\n",
       "      <td>9.780743e+12</td>\n",
       "      <td>F. Scott Fitzgerald</td>\n",
       "      <td>1925.0</td>\n",
       "      <td>The Great Gatsby</td>\n",
       "      <td>...</td>\n",
       "      <td>2683664</td>\n",
       "      <td>2773745</td>\n",
       "      <td>51992</td>\n",
       "      <td>86236</td>\n",
       "      <td>197621</td>\n",
       "      <td>606158</td>\n",
       "      <td>936012</td>\n",
       "      <td>947718</td>\n",
       "      <td>https://images.gr-assets.com/books/1490528560m...</td>\n",
       "      <td>https://images.gr-assets.com/books/1490528560s...</td>\n",
       "    </tr>\n",
       "  </tbody>\n",
       "</table>\n",
       "<p>5 rows × 23 columns</p>\n",
       "</div>"
      ],
      "text/plain": [
       "   id  book_id  best_book_id  work_id  books_count       isbn        isbn13  \\\n",
       "0   1  2767052       2767052  2792775          272  439023483  9.780439e+12   \n",
       "1   2        3             3  4640799          491  439554934  9.780440e+12   \n",
       "2   3    41865         41865  3212258          226  316015849  9.780316e+12   \n",
       "3   4     2657          2657  3275794          487   61120081  9.780061e+12   \n",
       "4   5     4671          4671   245494         1356  743273567  9.780743e+12   \n",
       "\n",
       "                       authors  original_publication_year  \\\n",
       "0              Suzanne Collins                     2008.0   \n",
       "1  J.K. Rowling, Mary GrandPré                     1997.0   \n",
       "2              Stephenie Meyer                     2005.0   \n",
       "3                   Harper Lee                     1960.0   \n",
       "4          F. Scott Fitzgerald                     1925.0   \n",
       "\n",
       "                             original_title  ... ratings_count  \\\n",
       "0                          The Hunger Games  ...       4780653   \n",
       "1  Harry Potter and the Philosopher's Stone  ...       4602479   \n",
       "2                                  Twilight  ...       3866839   \n",
       "3                     To Kill a Mockingbird  ...       3198671   \n",
       "4                          The Great Gatsby  ...       2683664   \n",
       "\n",
       "  work_ratings_count  work_text_reviews_count  ratings_1  ratings_2  \\\n",
       "0            4942365                   155254      66715     127936   \n",
       "1            4800065                    75867      75504     101676   \n",
       "2            3916824                    95009     456191     436802   \n",
       "3            3340896                    72586      60427     117415   \n",
       "4            2773745                    51992      86236     197621   \n",
       "\n",
       "   ratings_3  ratings_4  ratings_5  \\\n",
       "0     560092    1481305    2706317   \n",
       "1     455024    1156318    3011543   \n",
       "2     793319     875073    1355439   \n",
       "3     446835    1001952    1714267   \n",
       "4     606158     936012     947718   \n",
       "\n",
       "                                           image_url  \\\n",
       "0  https://images.gr-assets.com/books/1447303603m...   \n",
       "1  https://images.gr-assets.com/books/1474154022m...   \n",
       "2  https://images.gr-assets.com/books/1361039443m...   \n",
       "3  https://images.gr-assets.com/books/1361975680m...   \n",
       "4  https://images.gr-assets.com/books/1490528560m...   \n",
       "\n",
       "                                     small_image_url  \n",
       "0  https://images.gr-assets.com/books/1447303603s...  \n",
       "1  https://images.gr-assets.com/books/1474154022s...  \n",
       "2  https://images.gr-assets.com/books/1361039443s...  \n",
       "3  https://images.gr-assets.com/books/1361975680s...  \n",
       "4  https://images.gr-assets.com/books/1490528560s...  \n",
       "\n",
       "[5 rows x 23 columns]"
      ]
     },
     "execution_count": 35,
     "metadata": {},
     "output_type": "execute_result"
    }
   ],
   "source": [
    "    books = pd.read_csv(\"data/books.csv\")\n",
    "    books.head()"
   ]
  },
  {
   "cell_type": "code",
   "execution_count": 36,
   "metadata": {},
   "outputs": [
    {
     "data": {
      "text/html": [
       "<div>\n",
       "<style scoped>\n",
       "    .dataframe tbody tr th:only-of-type {\n",
       "        vertical-align: middle;\n",
       "    }\n",
       "\n",
       "    .dataframe tbody tr th {\n",
       "        vertical-align: top;\n",
       "    }\n",
       "\n",
       "    .dataframe thead th {\n",
       "        text-align: right;\n",
       "    }\n",
       "</style>\n",
       "<table border=\"1\" class=\"dataframe\">\n",
       "  <thead>\n",
       "    <tr style=\"text-align: right;\">\n",
       "      <th></th>\n",
       "      <th>id</th>\n",
       "      <th>book_id</th>\n",
       "      <th>best_book_id</th>\n",
       "      <th>work_id</th>\n",
       "      <th>books_count</th>\n",
       "      <th>isbn</th>\n",
       "      <th>isbn13</th>\n",
       "      <th>authors</th>\n",
       "      <th>original_publication_year</th>\n",
       "      <th>original_title</th>\n",
       "      <th>...</th>\n",
       "      <th>ratings_count</th>\n",
       "      <th>work_ratings_count</th>\n",
       "      <th>work_text_reviews_count</th>\n",
       "      <th>ratings_1</th>\n",
       "      <th>ratings_2</th>\n",
       "      <th>ratings_3</th>\n",
       "      <th>ratings_4</th>\n",
       "      <th>ratings_5</th>\n",
       "      <th>image_url</th>\n",
       "      <th>small_image_url</th>\n",
       "    </tr>\n",
       "  </thead>\n",
       "  <tbody>\n",
       "    <tr>\n",
       "      <th>3140</th>\n",
       "      <td>3141</td>\n",
       "      <td>6862</td>\n",
       "      <td>6862</td>\n",
       "      <td>933082</td>\n",
       "      <td>97</td>\n",
       "      <td>385494246</td>\n",
       "      <td>9.780385e+12</td>\n",
       "      <td>Ian McEwan</td>\n",
       "      <td>1998.0</td>\n",
       "      <td>Amsterdam</td>\n",
       "      <td>...</td>\n",
       "      <td>30469</td>\n",
       "      <td>34352</td>\n",
       "      <td>2553</td>\n",
       "      <td>1038</td>\n",
       "      <td>4225</td>\n",
       "      <td>13087</td>\n",
       "      <td>11759</td>\n",
       "      <td>4243</td>\n",
       "      <td>https://images.gr-assets.com/books/1403191209m...</td>\n",
       "      <td>https://images.gr-assets.com/books/1403191209s...</td>\n",
       "    </tr>\n",
       "  </tbody>\n",
       "</table>\n",
       "<p>1 rows × 23 columns</p>\n",
       "</div>"
      ],
      "text/plain": [
       "        id  book_id  best_book_id  work_id  books_count       isbn  \\\n",
       "3140  3141     6862          6862   933082           97  385494246   \n",
       "\n",
       "            isbn13     authors  original_publication_year original_title  ...  \\\n",
       "3140  9.780385e+12  Ian McEwan                     1998.0      Amsterdam  ...   \n",
       "\n",
       "     ratings_count work_ratings_count  work_text_reviews_count  ratings_1  \\\n",
       "3140         30469              34352                     2553       1038   \n",
       "\n",
       "      ratings_2  ratings_3  ratings_4  ratings_5  \\\n",
       "3140       4225      13087      11759       4243   \n",
       "\n",
       "                                              image_url  \\\n",
       "3140  https://images.gr-assets.com/books/1403191209m...   \n",
       "\n",
       "                                        small_image_url  \n",
       "3140  https://images.gr-assets.com/books/1403191209s...  \n",
       "\n",
       "[1 rows x 23 columns]"
      ]
     },
     "execution_count": 36,
     "metadata": {},
     "output_type": "execute_result"
    }
   ],
   "source": [
    "books.loc[books['id']==best_book]"
   ]
  },
  {
   "cell_type": "code",
   "execution_count": 37,
   "metadata": {},
   "outputs": [
    {
     "name": "stdout",
     "output_type": "stream",
     "text": [
      "The user rated the following books:\n"
     ]
    },
    {
     "data": {
      "text/html": [
       "<div>\n",
       "<style scoped>\n",
       "    .dataframe tbody tr th:only-of-type {\n",
       "        vertical-align: middle;\n",
       "    }\n",
       "\n",
       "    .dataframe tbody tr th {\n",
       "        vertical-align: top;\n",
       "    }\n",
       "\n",
       "    .dataframe thead th {\n",
       "        text-align: right;\n",
       "    }\n",
       "</style>\n",
       "<table border=\"1\" class=\"dataframe\">\n",
       "  <thead>\n",
       "    <tr style=\"text-align: right;\">\n",
       "      <th></th>\n",
       "      <th>id</th>\n",
       "      <th>book_id</th>\n",
       "      <th>best_book_id</th>\n",
       "      <th>work_id</th>\n",
       "      <th>books_count</th>\n",
       "      <th>isbn</th>\n",
       "      <th>isbn13</th>\n",
       "      <th>authors</th>\n",
       "      <th>original_publication_year</th>\n",
       "      <th>original_title</th>\n",
       "      <th>...</th>\n",
       "      <th>ratings_count</th>\n",
       "      <th>work_ratings_count</th>\n",
       "      <th>work_text_reviews_count</th>\n",
       "      <th>ratings_1</th>\n",
       "      <th>ratings_2</th>\n",
       "      <th>ratings_3</th>\n",
       "      <th>ratings_4</th>\n",
       "      <th>ratings_5</th>\n",
       "      <th>image_url</th>\n",
       "      <th>small_image_url</th>\n",
       "    </tr>\n",
       "  </thead>\n",
       "  <tbody>\n",
       "    <tr>\n",
       "      <th>2318</th>\n",
       "      <td>2319</td>\n",
       "      <td>5267365</td>\n",
       "      <td>5267365</td>\n",
       "      <td>5334682</td>\n",
       "      <td>49</td>\n",
       "      <td>1423116380</td>\n",
       "      <td>9.781423e+12</td>\n",
       "      <td>Ally Carter</td>\n",
       "      <td>2009.0</td>\n",
       "      <td>Don't Judge a Girl by Her Cover</td>\n",
       "      <td>...</td>\n",
       "      <td>55517</td>\n",
       "      <td>58508</td>\n",
       "      <td>2389</td>\n",
       "      <td>618</td>\n",
       "      <td>1784</td>\n",
       "      <td>9930</td>\n",
       "      <td>19190</td>\n",
       "      <td>26986</td>\n",
       "      <td>https://images.gr-assets.com/books/1359827132m...</td>\n",
       "      <td>https://images.gr-assets.com/books/1359827132s...</td>\n",
       "    </tr>\n",
       "    <tr>\n",
       "      <th>3140</th>\n",
       "      <td>3141</td>\n",
       "      <td>6862</td>\n",
       "      <td>6862</td>\n",
       "      <td>933082</td>\n",
       "      <td>97</td>\n",
       "      <td>385494246</td>\n",
       "      <td>9.780385e+12</td>\n",
       "      <td>Ian McEwan</td>\n",
       "      <td>1998.0</td>\n",
       "      <td>Amsterdam</td>\n",
       "      <td>...</td>\n",
       "      <td>30469</td>\n",
       "      <td>34352</td>\n",
       "      <td>2553</td>\n",
       "      <td>1038</td>\n",
       "      <td>4225</td>\n",
       "      <td>13087</td>\n",
       "      <td>11759</td>\n",
       "      <td>4243</td>\n",
       "      <td>https://images.gr-assets.com/books/1403191209m...</td>\n",
       "      <td>https://images.gr-assets.com/books/1403191209s...</td>\n",
       "    </tr>\n",
       "    <tr>\n",
       "      <th>3308</th>\n",
       "      <td>3309</td>\n",
       "      <td>7779059</td>\n",
       "      <td>7779059</td>\n",
       "      <td>10351697</td>\n",
       "      <td>17</td>\n",
       "      <td>045146365X</td>\n",
       "      <td>9.780451e+12</td>\n",
       "      <td>Jim Butcher</td>\n",
       "      <td>2010.0</td>\n",
       "      <td>Side Jobs: Stories From The Dresden Files</td>\n",
       "      <td>...</td>\n",
       "      <td>33738</td>\n",
       "      <td>37329</td>\n",
       "      <td>1680</td>\n",
       "      <td>69</td>\n",
       "      <td>515</td>\n",
       "      <td>5726</td>\n",
       "      <td>15346</td>\n",
       "      <td>15673</td>\n",
       "      <td>https://images.gr-assets.com/books/1269115846m...</td>\n",
       "      <td>https://images.gr-assets.com/books/1269115846s...</td>\n",
       "    </tr>\n",
       "    <tr>\n",
       "      <th>3486</th>\n",
       "      <td>3487</td>\n",
       "      <td>781046</td>\n",
       "      <td>781046</td>\n",
       "      <td>767067</td>\n",
       "      <td>26</td>\n",
       "      <td>670060291</td>\n",
       "      <td>9.780670e+12</td>\n",
       "      <td>Susane Colasanti</td>\n",
       "      <td>2006.0</td>\n",
       "      <td>When It Happens</td>\n",
       "      <td>...</td>\n",
       "      <td>32443</td>\n",
       "      <td>33534</td>\n",
       "      <td>1226</td>\n",
       "      <td>1092</td>\n",
       "      <td>3139</td>\n",
       "      <td>9215</td>\n",
       "      <td>9979</td>\n",
       "      <td>10109</td>\n",
       "      <td>https://images.gr-assets.com/books/1268350521m...</td>\n",
       "      <td>https://images.gr-assets.com/books/1268350521s...</td>\n",
       "    </tr>\n",
       "    <tr>\n",
       "      <th>4147</th>\n",
       "      <td>4148</td>\n",
       "      <td>72854</td>\n",
       "      <td>72854</td>\n",
       "      <td>3098033</td>\n",
       "      <td>27</td>\n",
       "      <td>553578529</td>\n",
       "      <td>9.780554e+12</td>\n",
       "      <td>Sara Donati</td>\n",
       "      <td>1998.0</td>\n",
       "      <td>Into the Wilderness</td>\n",
       "      <td>...</td>\n",
       "      <td>25293</td>\n",
       "      <td>27851</td>\n",
       "      <td>1751</td>\n",
       "      <td>544</td>\n",
       "      <td>1225</td>\n",
       "      <td>4589</td>\n",
       "      <td>9923</td>\n",
       "      <td>11570</td>\n",
       "      <td>https://images.gr-assets.com/books/1320395200m...</td>\n",
       "      <td>https://images.gr-assets.com/books/1320395200s...</td>\n",
       "    </tr>\n",
       "    <tr>\n",
       "      <th>4603</th>\n",
       "      <td>4604</td>\n",
       "      <td>16033909</td>\n",
       "      <td>16033909</td>\n",
       "      <td>21805191</td>\n",
       "      <td>50</td>\n",
       "      <td>425267083</td>\n",
       "      <td>9.780425e+12</td>\n",
       "      <td>Maya Banks</td>\n",
       "      <td>2013.0</td>\n",
       "      <td>Burn</td>\n",
       "      <td>...</td>\n",
       "      <td>30693</td>\n",
       "      <td>33900</td>\n",
       "      <td>1781</td>\n",
       "      <td>698</td>\n",
       "      <td>2078</td>\n",
       "      <td>6831</td>\n",
       "      <td>11018</td>\n",
       "      <td>13275</td>\n",
       "      <td>https://images.gr-assets.com/books/1359944814m...</td>\n",
       "      <td>https://images.gr-assets.com/books/1359944814s...</td>\n",
       "    </tr>\n",
       "    <tr>\n",
       "      <th>4981</th>\n",
       "      <td>4982</td>\n",
       "      <td>426625</td>\n",
       "      <td>426625</td>\n",
       "      <td>1167774</td>\n",
       "      <td>29</td>\n",
       "      <td>60542098</td>\n",
       "      <td>9.780061e+12</td>\n",
       "      <td>Jane O'Connor, Robin Preiss Glasser</td>\n",
       "      <td>2005.0</td>\n",
       "      <td>Fancy Nancy</td>\n",
       "      <td>...</td>\n",
       "      <td>21619</td>\n",
       "      <td>21741</td>\n",
       "      <td>792</td>\n",
       "      <td>483</td>\n",
       "      <td>1079</td>\n",
       "      <td>3876</td>\n",
       "      <td>5647</td>\n",
       "      <td>10656</td>\n",
       "      <td>https://images.gr-assets.com/books/1376473636m...</td>\n",
       "      <td>https://images.gr-assets.com/books/1376473636s...</td>\n",
       "    </tr>\n",
       "    <tr>\n",
       "      <th>5325</th>\n",
       "      <td>5326</td>\n",
       "      <td>216377</td>\n",
       "      <td>216377</td>\n",
       "      <td>23607</td>\n",
       "      <td>74</td>\n",
       "      <td>679734465</td>\n",
       "      <td>9.780680e+12</td>\n",
       "      <td>Philip K. Dick</td>\n",
       "      <td>1981.0</td>\n",
       "      <td>Valis</td>\n",
       "      <td>...</td>\n",
       "      <td>17305</td>\n",
       "      <td>18949</td>\n",
       "      <td>1119</td>\n",
       "      <td>464</td>\n",
       "      <td>1201</td>\n",
       "      <td>4014</td>\n",
       "      <td>6574</td>\n",
       "      <td>6696</td>\n",
       "      <td>https://s.gr-assets.com/assets/nophoto/book/11...</td>\n",
       "      <td>https://s.gr-assets.com/assets/nophoto/book/50...</td>\n",
       "    </tr>\n",
       "    <tr>\n",
       "      <th>6016</th>\n",
       "      <td>6017</td>\n",
       "      <td>192892</td>\n",
       "      <td>192892</td>\n",
       "      <td>520581</td>\n",
       "      <td>61</td>\n",
       "      <td>61043583</td>\n",
       "      <td>9.780061e+12</td>\n",
       "      <td>Dorothy L. Sayers</td>\n",
       "      <td>1927.0</td>\n",
       "      <td>Unnatural Death</td>\n",
       "      <td>...</td>\n",
       "      <td>17742</td>\n",
       "      <td>18764</td>\n",
       "      <td>549</td>\n",
       "      <td>172</td>\n",
       "      <td>504</td>\n",
       "      <td>3705</td>\n",
       "      <td>7132</td>\n",
       "      <td>7251</td>\n",
       "      <td>https://images.gr-assets.com/books/1316244142m...</td>\n",
       "      <td>https://images.gr-assets.com/books/1316244142s...</td>\n",
       "    </tr>\n",
       "    <tr>\n",
       "      <th>6171</th>\n",
       "      <td>6172</td>\n",
       "      <td>3080212</td>\n",
       "      <td>3080212</td>\n",
       "      <td>3111256</td>\n",
       "      <td>29</td>\n",
       "      <td>399155279</td>\n",
       "      <td>9.780399e+12</td>\n",
       "      <td>John Sandford</td>\n",
       "      <td>2008.0</td>\n",
       "      <td>Heat Lightning</td>\n",
       "      <td>...</td>\n",
       "      <td>16507</td>\n",
       "      <td>18301</td>\n",
       "      <td>720</td>\n",
       "      <td>133</td>\n",
       "      <td>411</td>\n",
       "      <td>3057</td>\n",
       "      <td>7484</td>\n",
       "      <td>7216</td>\n",
       "      <td>https://s.gr-assets.com/assets/nophoto/book/11...</td>\n",
       "      <td>https://s.gr-assets.com/assets/nophoto/book/50...</td>\n",
       "    </tr>\n",
       "    <tr>\n",
       "      <th>6436</th>\n",
       "      <td>6437</td>\n",
       "      <td>95607</td>\n",
       "      <td>95607</td>\n",
       "      <td>1832796</td>\n",
       "      <td>22</td>\n",
       "      <td>842319476</td>\n",
       "      <td>3.180901e+10</td>\n",
       "      <td>Francine Rivers</td>\n",
       "      <td>2000.0</td>\n",
       "      <td>Unveiled: Tamar (Lineage of Grace #1)</td>\n",
       "      <td>...</td>\n",
       "      <td>14441</td>\n",
       "      <td>14639</td>\n",
       "      <td>393</td>\n",
       "      <td>98</td>\n",
       "      <td>356</td>\n",
       "      <td>2275</td>\n",
       "      <td>4864</td>\n",
       "      <td>7046</td>\n",
       "      <td>https://s.gr-assets.com/assets/nophoto/book/11...</td>\n",
       "      <td>https://s.gr-assets.com/assets/nophoto/book/50...</td>\n",
       "    </tr>\n",
       "    <tr>\n",
       "      <th>6533</th>\n",
       "      <td>6534</td>\n",
       "      <td>6344832</td>\n",
       "      <td>6344832</td>\n",
       "      <td>6295253</td>\n",
       "      <td>33</td>\n",
       "      <td>425230155</td>\n",
       "      <td>9.780425e+12</td>\n",
       "      <td>Charlaine Harris</td>\n",
       "      <td>2009.0</td>\n",
       "      <td>Grave Secret (Harper Connelly, #4)</td>\n",
       "      <td>...</td>\n",
       "      <td>22334</td>\n",
       "      <td>24694</td>\n",
       "      <td>1380</td>\n",
       "      <td>169</td>\n",
       "      <td>1098</td>\n",
       "      <td>6134</td>\n",
       "      <td>9836</td>\n",
       "      <td>7457</td>\n",
       "      <td>https://s.gr-assets.com/assets/nophoto/book/11...</td>\n",
       "      <td>https://s.gr-assets.com/assets/nophoto/book/50...</td>\n",
       "    </tr>\n",
       "    <tr>\n",
       "      <th>6907</th>\n",
       "      <td>6908</td>\n",
       "      <td>31268</td>\n",
       "      <td>31268</td>\n",
       "      <td>680939</td>\n",
       "      <td>54</td>\n",
       "      <td>752858521</td>\n",
       "      <td>9.780753e+12</td>\n",
       "      <td>Robert Ludlum</td>\n",
       "      <td>1984.0</td>\n",
       "      <td>The Aquitaine Progression</td>\n",
       "      <td>...</td>\n",
       "      <td>14100</td>\n",
       "      <td>14718</td>\n",
       "      <td>131</td>\n",
       "      <td>120</td>\n",
       "      <td>607</td>\n",
       "      <td>3965</td>\n",
       "      <td>5917</td>\n",
       "      <td>4109</td>\n",
       "      <td>https://images.gr-assets.com/books/1408931400m...</td>\n",
       "      <td>https://images.gr-assets.com/books/1408931400s...</td>\n",
       "    </tr>\n",
       "    <tr>\n",
       "      <th>7260</th>\n",
       "      <td>7261</td>\n",
       "      <td>18453074</td>\n",
       "      <td>18453074</td>\n",
       "      <td>26098475</td>\n",
       "      <td>32</td>\n",
       "      <td>316033979</td>\n",
       "      <td>9.780316e+12</td>\n",
       "      <td>Joshua Ferris</td>\n",
       "      <td>2014.0</td>\n",
       "      <td>To rise again at a decent hour</td>\n",
       "      <td>...</td>\n",
       "      <td>10270</td>\n",
       "      <td>12209</td>\n",
       "      <td>2090</td>\n",
       "      <td>1034</td>\n",
       "      <td>2443</td>\n",
       "      <td>4431</td>\n",
       "      <td>3161</td>\n",
       "      <td>1140</td>\n",
       "      <td>https://images.gr-assets.com/books/1391305201m...</td>\n",
       "      <td>https://images.gr-assets.com/books/1391305201s...</td>\n",
       "    </tr>\n",
       "    <tr>\n",
       "      <th>7407</th>\n",
       "      <td>7408</td>\n",
       "      <td>576570</td>\n",
       "      <td>576570</td>\n",
       "      <td>1312136</td>\n",
       "      <td>10</td>\n",
       "      <td>823404420</td>\n",
       "      <td>9.780823e+12</td>\n",
       "      <td>Janet Stevens, Hans Christian Andersen</td>\n",
       "      <td>1835.0</td>\n",
       "      <td>Prinsessen på ærten</td>\n",
       "      <td>...</td>\n",
       "      <td>14851</td>\n",
       "      <td>14867</td>\n",
       "      <td>156</td>\n",
       "      <td>134</td>\n",
       "      <td>673</td>\n",
       "      <td>3381</td>\n",
       "      <td>4120</td>\n",
       "      <td>6559</td>\n",
       "      <td>https://s.gr-assets.com/assets/nophoto/book/11...</td>\n",
       "      <td>https://s.gr-assets.com/assets/nophoto/book/50...</td>\n",
       "    </tr>\n",
       "    <tr>\n",
       "      <th>7768</th>\n",
       "      <td>7769</td>\n",
       "      <td>30919</td>\n",
       "      <td>30919</td>\n",
       "      <td>1001166</td>\n",
       "      <td>62</td>\n",
       "      <td>141187492</td>\n",
       "      <td>9.780141e+12</td>\n",
       "      <td>Evelyn Waugh</td>\n",
       "      <td>1937.0</td>\n",
       "      <td>Scoop</td>\n",
       "      <td>...</td>\n",
       "      <td>12032</td>\n",
       "      <td>13654</td>\n",
       "      <td>703</td>\n",
       "      <td>212</td>\n",
       "      <td>811</td>\n",
       "      <td>3459</td>\n",
       "      <td>5306</td>\n",
       "      <td>3866</td>\n",
       "      <td>https://images.gr-assets.com/books/1416017359m...</td>\n",
       "      <td>https://images.gr-assets.com/books/1416017359s...</td>\n",
       "    </tr>\n",
       "    <tr>\n",
       "      <th>7866</th>\n",
       "      <td>7867</td>\n",
       "      <td>23245587</td>\n",
       "      <td>23245587</td>\n",
       "      <td>42788868</td>\n",
       "      <td>17</td>\n",
       "      <td>125004734X</td>\n",
       "      <td>9.781250e+12</td>\n",
       "      <td>Jane Green</td>\n",
       "      <td>2015.0</td>\n",
       "      <td>NaN</td>\n",
       "      <td>...</td>\n",
       "      <td>10223</td>\n",
       "      <td>12179</td>\n",
       "      <td>1309</td>\n",
       "      <td>269</td>\n",
       "      <td>936</td>\n",
       "      <td>4015</td>\n",
       "      <td>4877</td>\n",
       "      <td>2082</td>\n",
       "      <td>https://images.gr-assets.com/books/1426128094m...</td>\n",
       "      <td>https://images.gr-assets.com/books/1426128094s...</td>\n",
       "    </tr>\n",
       "  </tbody>\n",
       "</table>\n",
       "<p>17 rows × 23 columns</p>\n",
       "</div>"
      ],
      "text/plain": [
       "        id   book_id  best_book_id   work_id  books_count        isbn  \\\n",
       "2318  2319   5267365       5267365   5334682           49  1423116380   \n",
       "3140  3141      6862          6862    933082           97   385494246   \n",
       "3308  3309   7779059       7779059  10351697           17  045146365X   \n",
       "3486  3487    781046        781046    767067           26   670060291   \n",
       "4147  4148     72854         72854   3098033           27   553578529   \n",
       "4603  4604  16033909      16033909  21805191           50   425267083   \n",
       "4981  4982    426625        426625   1167774           29    60542098   \n",
       "5325  5326    216377        216377     23607           74   679734465   \n",
       "6016  6017    192892        192892    520581           61    61043583   \n",
       "6171  6172   3080212       3080212   3111256           29   399155279   \n",
       "6436  6437     95607         95607   1832796           22   842319476   \n",
       "6533  6534   6344832       6344832   6295253           33   425230155   \n",
       "6907  6908     31268         31268    680939           54   752858521   \n",
       "7260  7261  18453074      18453074  26098475           32   316033979   \n",
       "7407  7408    576570        576570   1312136           10   823404420   \n",
       "7768  7769     30919         30919   1001166           62   141187492   \n",
       "7866  7867  23245587      23245587  42788868           17  125004734X   \n",
       "\n",
       "            isbn13                                 authors  \\\n",
       "2318  9.781423e+12                             Ally Carter   \n",
       "3140  9.780385e+12                              Ian McEwan   \n",
       "3308  9.780451e+12                             Jim Butcher   \n",
       "3486  9.780670e+12                        Susane Colasanti   \n",
       "4147  9.780554e+12                             Sara Donati   \n",
       "4603  9.780425e+12                              Maya Banks   \n",
       "4981  9.780061e+12     Jane O'Connor, Robin Preiss Glasser   \n",
       "5325  9.780680e+12                          Philip K. Dick   \n",
       "6016  9.780061e+12                       Dorothy L. Sayers   \n",
       "6171  9.780399e+12                           John Sandford   \n",
       "6436  3.180901e+10                         Francine Rivers   \n",
       "6533  9.780425e+12                        Charlaine Harris   \n",
       "6907  9.780753e+12                           Robert Ludlum   \n",
       "7260  9.780316e+12                           Joshua Ferris   \n",
       "7407  9.780823e+12  Janet Stevens, Hans Christian Andersen   \n",
       "7768  9.780141e+12                            Evelyn Waugh   \n",
       "7866  9.781250e+12                              Jane Green   \n",
       "\n",
       "      original_publication_year                             original_title  \\\n",
       "2318                     2009.0            Don't Judge a Girl by Her Cover   \n",
       "3140                     1998.0                                  Amsterdam   \n",
       "3308                     2010.0  Side Jobs: Stories From The Dresden Files   \n",
       "3486                     2006.0                            When It Happens   \n",
       "4147                     1998.0                        Into the Wilderness   \n",
       "4603                     2013.0                                       Burn   \n",
       "4981                     2005.0                                Fancy Nancy   \n",
       "5325                     1981.0                                      Valis   \n",
       "6016                     1927.0                            Unnatural Death   \n",
       "6171                     2008.0                             Heat Lightning   \n",
       "6436                     2000.0      Unveiled: Tamar (Lineage of Grace #1)   \n",
       "6533                     2009.0         Grave Secret (Harper Connelly, #4)   \n",
       "6907                     1984.0                  The Aquitaine Progression   \n",
       "7260                     2014.0             To rise again at a decent hour   \n",
       "7407                     1835.0                        Prinsessen på ærten   \n",
       "7768                     1937.0                                      Scoop   \n",
       "7866                     2015.0                                        NaN   \n",
       "\n",
       "      ... ratings_count work_ratings_count  work_text_reviews_count  \\\n",
       "2318  ...         55517              58508                     2389   \n",
       "3140  ...         30469              34352                     2553   \n",
       "3308  ...         33738              37329                     1680   \n",
       "3486  ...         32443              33534                     1226   \n",
       "4147  ...         25293              27851                     1751   \n",
       "4603  ...         30693              33900                     1781   \n",
       "4981  ...         21619              21741                      792   \n",
       "5325  ...         17305              18949                     1119   \n",
       "6016  ...         17742              18764                      549   \n",
       "6171  ...         16507              18301                      720   \n",
       "6436  ...         14441              14639                      393   \n",
       "6533  ...         22334              24694                     1380   \n",
       "6907  ...         14100              14718                      131   \n",
       "7260  ...         10270              12209                     2090   \n",
       "7407  ...         14851              14867                      156   \n",
       "7768  ...         12032              13654                      703   \n",
       "7866  ...         10223              12179                     1309   \n",
       "\n",
       "      ratings_1  ratings_2  ratings_3  ratings_4  ratings_5  \\\n",
       "2318        618       1784       9930      19190      26986   \n",
       "3140       1038       4225      13087      11759       4243   \n",
       "3308         69        515       5726      15346      15673   \n",
       "3486       1092       3139       9215       9979      10109   \n",
       "4147        544       1225       4589       9923      11570   \n",
       "4603        698       2078       6831      11018      13275   \n",
       "4981        483       1079       3876       5647      10656   \n",
       "5325        464       1201       4014       6574       6696   \n",
       "6016        172        504       3705       7132       7251   \n",
       "6171        133        411       3057       7484       7216   \n",
       "6436         98        356       2275       4864       7046   \n",
       "6533        169       1098       6134       9836       7457   \n",
       "6907        120        607       3965       5917       4109   \n",
       "7260       1034       2443       4431       3161       1140   \n",
       "7407        134        673       3381       4120       6559   \n",
       "7768        212        811       3459       5306       3866   \n",
       "7866        269        936       4015       4877       2082   \n",
       "\n",
       "                                              image_url  \\\n",
       "2318  https://images.gr-assets.com/books/1359827132m...   \n",
       "3140  https://images.gr-assets.com/books/1403191209m...   \n",
       "3308  https://images.gr-assets.com/books/1269115846m...   \n",
       "3486  https://images.gr-assets.com/books/1268350521m...   \n",
       "4147  https://images.gr-assets.com/books/1320395200m...   \n",
       "4603  https://images.gr-assets.com/books/1359944814m...   \n",
       "4981  https://images.gr-assets.com/books/1376473636m...   \n",
       "5325  https://s.gr-assets.com/assets/nophoto/book/11...   \n",
       "6016  https://images.gr-assets.com/books/1316244142m...   \n",
       "6171  https://s.gr-assets.com/assets/nophoto/book/11...   \n",
       "6436  https://s.gr-assets.com/assets/nophoto/book/11...   \n",
       "6533  https://s.gr-assets.com/assets/nophoto/book/11...   \n",
       "6907  https://images.gr-assets.com/books/1408931400m...   \n",
       "7260  https://images.gr-assets.com/books/1391305201m...   \n",
       "7407  https://s.gr-assets.com/assets/nophoto/book/11...   \n",
       "7768  https://images.gr-assets.com/books/1416017359m...   \n",
       "7866  https://images.gr-assets.com/books/1426128094m...   \n",
       "\n",
       "                                        small_image_url  \n",
       "2318  https://images.gr-assets.com/books/1359827132s...  \n",
       "3140  https://images.gr-assets.com/books/1403191209s...  \n",
       "3308  https://images.gr-assets.com/books/1269115846s...  \n",
       "3486  https://images.gr-assets.com/books/1268350521s...  \n",
       "4147  https://images.gr-assets.com/books/1320395200s...  \n",
       "4603  https://images.gr-assets.com/books/1359944814s...  \n",
       "4981  https://images.gr-assets.com/books/1376473636s...  \n",
       "5325  https://s.gr-assets.com/assets/nophoto/book/50...  \n",
       "6016  https://images.gr-assets.com/books/1316244142s...  \n",
       "6171  https://s.gr-assets.com/assets/nophoto/book/50...  \n",
       "6436  https://s.gr-assets.com/assets/nophoto/book/50...  \n",
       "6533  https://s.gr-assets.com/assets/nophoto/book/50...  \n",
       "6907  https://images.gr-assets.com/books/1408931400s...  \n",
       "7260  https://images.gr-assets.com/books/1391305201s...  \n",
       "7407  https://s.gr-assets.com/assets/nophoto/book/50...  \n",
       "7768  https://images.gr-assets.com/books/1416017359s...  \n",
       "7866  https://images.gr-assets.com/books/1426128094s...  \n",
       "\n",
       "[17 rows x 23 columns]"
      ]
     },
     "execution_count": 37,
     "metadata": {},
     "output_type": "execute_result"
    }
   ],
   "source": [
    "print(\"The user rated the following books:\")\n",
    "books.loc[books['id'].isin(read_book)]"
   ]
  },
  {
   "cell_type": "code",
   "execution_count": 38,
   "metadata": {},
   "outputs": [],
   "source": [
    "recommend_book = np.delete(good_book, np.where(np.isin(good_book, read_book)))"
   ]
  },
  {
   "cell_type": "code",
   "execution_count": 39,
   "metadata": {},
   "outputs": [
    {
     "name": "stdout",
     "output_type": "stream",
     "text": [
      "Recommended books for the users are:\n"
     ]
    },
    {
     "data": {
      "text/html": [
       "<div>\n",
       "<style scoped>\n",
       "    .dataframe tbody tr th:only-of-type {\n",
       "        vertical-align: middle;\n",
       "    }\n",
       "\n",
       "    .dataframe tbody tr th {\n",
       "        vertical-align: top;\n",
       "    }\n",
       "\n",
       "    .dataframe thead th {\n",
       "        text-align: right;\n",
       "    }\n",
       "</style>\n",
       "<table border=\"1\" class=\"dataframe\">\n",
       "  <thead>\n",
       "    <tr style=\"text-align: right;\">\n",
       "      <th></th>\n",
       "      <th>id</th>\n",
       "      <th>book_id</th>\n",
       "      <th>best_book_id</th>\n",
       "      <th>work_id</th>\n",
       "      <th>books_count</th>\n",
       "      <th>isbn</th>\n",
       "      <th>isbn13</th>\n",
       "      <th>authors</th>\n",
       "      <th>original_publication_year</th>\n",
       "      <th>original_title</th>\n",
       "      <th>...</th>\n",
       "      <th>ratings_count</th>\n",
       "      <th>work_ratings_count</th>\n",
       "      <th>work_text_reviews_count</th>\n",
       "      <th>ratings_1</th>\n",
       "      <th>ratings_2</th>\n",
       "      <th>ratings_3</th>\n",
       "      <th>ratings_4</th>\n",
       "      <th>ratings_5</th>\n",
       "      <th>image_url</th>\n",
       "      <th>small_image_url</th>\n",
       "    </tr>\n",
       "  </thead>\n",
       "  <tbody>\n",
       "    <tr>\n",
       "      <th>2172</th>\n",
       "      <td>2173</td>\n",
       "      <td>16141924</td>\n",
       "      <td>16141924</td>\n",
       "      <td>21973739</td>\n",
       "      <td>16</td>\n",
       "      <td>385349068</td>\n",
       "      <td>9.780385e+12</td>\n",
       "      <td>Jim Gaffigan</td>\n",
       "      <td>2013.0</td>\n",
       "      <td>Dad Is Fat</td>\n",
       "      <td>...</td>\n",
       "      <td>40489</td>\n",
       "      <td>46767</td>\n",
       "      <td>6014</td>\n",
       "      <td>827</td>\n",
       "      <td>3199</td>\n",
       "      <td>13535</td>\n",
       "      <td>17973</td>\n",
       "      <td>11233</td>\n",
       "      <td>https://images.gr-assets.com/books/1354052742m...</td>\n",
       "      <td>https://images.gr-assets.com/books/1354052742s...</td>\n",
       "    </tr>\n",
       "    <tr>\n",
       "      <th>2293</th>\n",
       "      <td>2294</td>\n",
       "      <td>7137327</td>\n",
       "      <td>7137327</td>\n",
       "      <td>7400809</td>\n",
       "      <td>32</td>\n",
       "      <td>312650086</td>\n",
       "      <td>9.780313e+12</td>\n",
       "      <td>Ann Aguirre</td>\n",
       "      <td>2011.0</td>\n",
       "      <td>Enclave</td>\n",
       "      <td>...</td>\n",
       "      <td>55155</td>\n",
       "      <td>58102</td>\n",
       "      <td>4692</td>\n",
       "      <td>1642</td>\n",
       "      <td>3379</td>\n",
       "      <td>12548</td>\n",
       "      <td>20995</td>\n",
       "      <td>19538</td>\n",
       "      <td>https://images.gr-assets.com/books/1327877657m...</td>\n",
       "      <td>https://images.gr-assets.com/books/1327877657s...</td>\n",
       "    </tr>\n",
       "    <tr>\n",
       "      <th>4937</th>\n",
       "      <td>4938</td>\n",
       "      <td>277397</td>\n",
       "      <td>277397</td>\n",
       "      <td>1347714</td>\n",
       "      <td>37</td>\n",
       "      <td>375703055</td>\n",
       "      <td>9.780376e+12</td>\n",
       "      <td>Kaye Gibbons</td>\n",
       "      <td>1987.0</td>\n",
       "      <td>Ellen Foster</td>\n",
       "      <td>...</td>\n",
       "      <td>23327</td>\n",
       "      <td>24511</td>\n",
       "      <td>1379</td>\n",
       "      <td>468</td>\n",
       "      <td>1770</td>\n",
       "      <td>6993</td>\n",
       "      <td>9353</td>\n",
       "      <td>5927</td>\n",
       "      <td>https://s.gr-assets.com/assets/nophoto/book/11...</td>\n",
       "      <td>https://s.gr-assets.com/assets/nophoto/book/50...</td>\n",
       "    </tr>\n",
       "    <tr>\n",
       "      <th>5376</th>\n",
       "      <td>5377</td>\n",
       "      <td>103902</td>\n",
       "      <td>103902</td>\n",
       "      <td>100186</td>\n",
       "      <td>32</td>\n",
       "      <td>382285980X</td>\n",
       "      <td>9.783823e+12</td>\n",
       "      <td>Gilles Néret</td>\n",
       "      <td>1992.0</td>\n",
       "      <td>Gustav Klimt: le monde comme une forme féminine</td>\n",
       "      <td>...</td>\n",
       "      <td>15611</td>\n",
       "      <td>15741</td>\n",
       "      <td>40</td>\n",
       "      <td>319</td>\n",
       "      <td>761</td>\n",
       "      <td>2767</td>\n",
       "      <td>4725</td>\n",
       "      <td>7169</td>\n",
       "      <td>https://images.gr-assets.com/books/1393794080m...</td>\n",
       "      <td>https://images.gr-assets.com/books/1393794080s...</td>\n",
       "    </tr>\n",
       "    <tr>\n",
       "      <th>5423</th>\n",
       "      <td>5424</td>\n",
       "      <td>255127</td>\n",
       "      <td>255127</td>\n",
       "      <td>254029</td>\n",
       "      <td>47</td>\n",
       "      <td>385517254</td>\n",
       "      <td>9.780386e+12</td>\n",
       "      <td>Peter M. Senge</td>\n",
       "      <td>1990.0</td>\n",
       "      <td>NaN</td>\n",
       "      <td>...</td>\n",
       "      <td>20935</td>\n",
       "      <td>21616</td>\n",
       "      <td>322</td>\n",
       "      <td>857</td>\n",
       "      <td>1311</td>\n",
       "      <td>4497</td>\n",
       "      <td>6850</td>\n",
       "      <td>8101</td>\n",
       "      <td>https://s.gr-assets.com/assets/nophoto/book/11...</td>\n",
       "      <td>https://s.gr-assets.com/assets/nophoto/book/50...</td>\n",
       "    </tr>\n",
       "    <tr>\n",
       "      <th>5435</th>\n",
       "      <td>5436</td>\n",
       "      <td>253106</td>\n",
       "      <td>253106</td>\n",
       "      <td>2974214</td>\n",
       "      <td>25</td>\n",
       "      <td>763620912</td>\n",
       "      <td>9.780764e+12</td>\n",
       "      <td>Carolyn Mackler</td>\n",
       "      <td>2003.0</td>\n",
       "      <td>The Earth, My Butt, and Other Big Round Things</td>\n",
       "      <td>...</td>\n",
       "      <td>21129</td>\n",
       "      <td>22209</td>\n",
       "      <td>1459</td>\n",
       "      <td>474</td>\n",
       "      <td>1775</td>\n",
       "      <td>6478</td>\n",
       "      <td>7195</td>\n",
       "      <td>6287</td>\n",
       "      <td>https://s.gr-assets.com/assets/nophoto/book/11...</td>\n",
       "      <td>https://s.gr-assets.com/assets/nophoto/book/50...</td>\n",
       "    </tr>\n",
       "    <tr>\n",
       "      <th>5752</th>\n",
       "      <td>5753</td>\n",
       "      <td>22733729</td>\n",
       "      <td>22733729</td>\n",
       "      <td>42270825</td>\n",
       "      <td>27</td>\n",
       "      <td>1500453307</td>\n",
       "      <td>9.781500e+12</td>\n",
       "      <td>Becky  Chambers</td>\n",
       "      <td>2014.0</td>\n",
       "      <td>The Long Way to a Small, Angry Planet</td>\n",
       "      <td>...</td>\n",
       "      <td>12969</td>\n",
       "      <td>22400</td>\n",
       "      <td>4221</td>\n",
       "      <td>306</td>\n",
       "      <td>805</td>\n",
       "      <td>3179</td>\n",
       "      <td>8272</td>\n",
       "      <td>9838</td>\n",
       "      <td>https://images.gr-assets.com/books/1405532474m...</td>\n",
       "      <td>https://images.gr-assets.com/books/1405532474s...</td>\n",
       "    </tr>\n",
       "    <tr>\n",
       "      <th>5906</th>\n",
       "      <td>5907</td>\n",
       "      <td>31244</td>\n",
       "      <td>31244</td>\n",
       "      <td>2888469</td>\n",
       "      <td>378</td>\n",
       "      <td>375761144</td>\n",
       "      <td>9.780376e+12</td>\n",
       "      <td>Charles Dickens</td>\n",
       "      <td>1865.0</td>\n",
       "      <td>Our Mutual Friend</td>\n",
       "      <td>...</td>\n",
       "      <td>18599</td>\n",
       "      <td>20659</td>\n",
       "      <td>1102</td>\n",
       "      <td>434</td>\n",
       "      <td>986</td>\n",
       "      <td>3803</td>\n",
       "      <td>6936</td>\n",
       "      <td>8500</td>\n",
       "      <td>https://images.gr-assets.com/books/1403189244m...</td>\n",
       "      <td>https://images.gr-assets.com/books/1403189244s...</td>\n",
       "    </tr>\n",
       "    <tr>\n",
       "      <th>6875</th>\n",
       "      <td>6876</td>\n",
       "      <td>105986</td>\n",
       "      <td>9858081</td>\n",
       "      <td>1121253</td>\n",
       "      <td>81</td>\n",
       "      <td>1841591009</td>\n",
       "      <td>9.781842e+12</td>\n",
       "      <td>P.G. Wodehouse</td>\n",
       "      <td>1938.0</td>\n",
       "      <td>The Code Of The Woosters</td>\n",
       "      <td>...</td>\n",
       "      <td>8979</td>\n",
       "      <td>17068</td>\n",
       "      <td>1135</td>\n",
       "      <td>69</td>\n",
       "      <td>222</td>\n",
       "      <td>1906</td>\n",
       "      <td>6214</td>\n",
       "      <td>8657</td>\n",
       "      <td>https://images.gr-assets.com/books/1299729089m...</td>\n",
       "      <td>https://images.gr-assets.com/books/1299729089s...</td>\n",
       "    </tr>\n",
       "    <tr>\n",
       "      <th>6994</th>\n",
       "      <td>6995</td>\n",
       "      <td>434535</td>\n",
       "      <td>434535</td>\n",
       "      <td>2243662</td>\n",
       "      <td>11</td>\n",
       "      <td>1590382234</td>\n",
       "      <td>9.781590e+12</td>\n",
       "      <td>James L. Ferrell</td>\n",
       "      <td>2004.0</td>\n",
       "      <td>The Peacegiver: How Christ Offers to Heal Our ...</td>\n",
       "      <td>...</td>\n",
       "      <td>12313</td>\n",
       "      <td>12528</td>\n",
       "      <td>2150</td>\n",
       "      <td>144</td>\n",
       "      <td>325</td>\n",
       "      <td>1324</td>\n",
       "      <td>3252</td>\n",
       "      <td>7483</td>\n",
       "      <td>https://s.gr-assets.com/assets/nophoto/book/11...</td>\n",
       "      <td>https://s.gr-assets.com/assets/nophoto/book/50...</td>\n",
       "    </tr>\n",
       "  </tbody>\n",
       "</table>\n",
       "<p>10 rows × 23 columns</p>\n",
       "</div>"
      ],
      "text/plain": [
       "        id   book_id  best_book_id   work_id  books_count        isbn  \\\n",
       "2172  2173  16141924      16141924  21973739           16   385349068   \n",
       "2293  2294   7137327       7137327   7400809           32   312650086   \n",
       "4937  4938    277397        277397   1347714           37   375703055   \n",
       "5376  5377    103902        103902    100186           32  382285980X   \n",
       "5423  5424    255127        255127    254029           47   385517254   \n",
       "5435  5436    253106        253106   2974214           25   763620912   \n",
       "5752  5753  22733729      22733729  42270825           27  1500453307   \n",
       "5906  5907     31244         31244   2888469          378   375761144   \n",
       "6875  6876    105986       9858081   1121253           81  1841591009   \n",
       "6994  6995    434535        434535   2243662           11  1590382234   \n",
       "\n",
       "            isbn13           authors  original_publication_year  \\\n",
       "2172  9.780385e+12      Jim Gaffigan                     2013.0   \n",
       "2293  9.780313e+12       Ann Aguirre                     2011.0   \n",
       "4937  9.780376e+12      Kaye Gibbons                     1987.0   \n",
       "5376  9.783823e+12      Gilles Néret                     1992.0   \n",
       "5423  9.780386e+12    Peter M. Senge                     1990.0   \n",
       "5435  9.780764e+12   Carolyn Mackler                     2003.0   \n",
       "5752  9.781500e+12   Becky  Chambers                     2014.0   \n",
       "5906  9.780376e+12   Charles Dickens                     1865.0   \n",
       "6875  9.781842e+12    P.G. Wodehouse                     1938.0   \n",
       "6994  9.781590e+12  James L. Ferrell                     2004.0   \n",
       "\n",
       "                                         original_title  ... ratings_count  \\\n",
       "2172                                         Dad Is Fat  ...         40489   \n",
       "2293                                            Enclave  ...         55155   \n",
       "4937                                       Ellen Foster  ...         23327   \n",
       "5376    Gustav Klimt: le monde comme une forme féminine  ...         15611   \n",
       "5423                                                NaN  ...         20935   \n",
       "5435     The Earth, My Butt, and Other Big Round Things  ...         21129   \n",
       "5752              The Long Way to a Small, Angry Planet  ...         12969   \n",
       "5906                                  Our Mutual Friend  ...         18599   \n",
       "6875                           The Code Of The Woosters  ...          8979   \n",
       "6994  The Peacegiver: How Christ Offers to Heal Our ...  ...         12313   \n",
       "\n",
       "     work_ratings_count  work_text_reviews_count  ratings_1  ratings_2  \\\n",
       "2172              46767                     6014        827       3199   \n",
       "2293              58102                     4692       1642       3379   \n",
       "4937              24511                     1379        468       1770   \n",
       "5376              15741                       40        319        761   \n",
       "5423              21616                      322        857       1311   \n",
       "5435              22209                     1459        474       1775   \n",
       "5752              22400                     4221        306        805   \n",
       "5906              20659                     1102        434        986   \n",
       "6875              17068                     1135         69        222   \n",
       "6994              12528                     2150        144        325   \n",
       "\n",
       "      ratings_3  ratings_4  ratings_5  \\\n",
       "2172      13535      17973      11233   \n",
       "2293      12548      20995      19538   \n",
       "4937       6993       9353       5927   \n",
       "5376       2767       4725       7169   \n",
       "5423       4497       6850       8101   \n",
       "5435       6478       7195       6287   \n",
       "5752       3179       8272       9838   \n",
       "5906       3803       6936       8500   \n",
       "6875       1906       6214       8657   \n",
       "6994       1324       3252       7483   \n",
       "\n",
       "                                              image_url  \\\n",
       "2172  https://images.gr-assets.com/books/1354052742m...   \n",
       "2293  https://images.gr-assets.com/books/1327877657m...   \n",
       "4937  https://s.gr-assets.com/assets/nophoto/book/11...   \n",
       "5376  https://images.gr-assets.com/books/1393794080m...   \n",
       "5423  https://s.gr-assets.com/assets/nophoto/book/11...   \n",
       "5435  https://s.gr-assets.com/assets/nophoto/book/11...   \n",
       "5752  https://images.gr-assets.com/books/1405532474m...   \n",
       "5906  https://images.gr-assets.com/books/1403189244m...   \n",
       "6875  https://images.gr-assets.com/books/1299729089m...   \n",
       "6994  https://s.gr-assets.com/assets/nophoto/book/11...   \n",
       "\n",
       "                                        small_image_url  \n",
       "2172  https://images.gr-assets.com/books/1354052742s...  \n",
       "2293  https://images.gr-assets.com/books/1327877657s...  \n",
       "4937  https://s.gr-assets.com/assets/nophoto/book/50...  \n",
       "5376  https://images.gr-assets.com/books/1393794080s...  \n",
       "5423  https://s.gr-assets.com/assets/nophoto/book/50...  \n",
       "5435  https://s.gr-assets.com/assets/nophoto/book/50...  \n",
       "5752  https://images.gr-assets.com/books/1405532474s...  \n",
       "5906  https://images.gr-assets.com/books/1403189244s...  \n",
       "6875  https://images.gr-assets.com/books/1299729089s...  \n",
       "6994  https://s.gr-assets.com/assets/nophoto/book/50...  \n",
       "\n",
       "[10 rows x 23 columns]"
      ]
     },
     "execution_count": 39,
     "metadata": {},
     "output_type": "execute_result"
    }
   ],
   "source": [
    "print(\"Recommended books for the users are:\")\n",
    "books.loc[books['id'].isin(recommend_book)]"
   ]
  },
  {
   "cell_type": "code",
   "execution_count": null,
   "metadata": {},
   "outputs": [],
   "source": []
  }
 ],
 "metadata": {
  "kernelspec": {
   "display_name": "Python 3",
   "language": "python",
   "name": "python3"
  },
  "language_info": {
   "codemirror_mode": {
    "name": "ipython",
    "version": 3
   },
   "file_extension": ".py",
   "mimetype": "text/x-python",
   "name": "python",
   "nbconvert_exporter": "python",
   "pygments_lexer": "ipython3",
   "version": "3.7.6"
  }
 },
 "nbformat": 4,
 "nbformat_minor": 4
}
