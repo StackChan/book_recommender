{
 "cells": [
  {
   "cell_type": "code",
   "execution_count": 1,
   "metadata": {},
   "outputs": [],
   "source": [
    "import math\n",
    "import numpy as np\n",
    "import pandas as pd\n",
    "import matplotlib.pyplot as plt"
   ]
  },
  {
   "cell_type": "markdown",
   "metadata": {},
   "source": [
    "## Prepare dataset where users are entity & books are features\n",
    "### Read ratings data\n"
   ]
  },
  {
   "cell_type": "code",
   "execution_count": 2,
   "metadata": {},
   "outputs": [],
   "source": [
    "ratings = pd.read_csv(\"data/ratings.csv\")\n",
    "n_users = ratings.user_id.unique().shape[0] # 53424 users\n",
    "n_books = ratings.book_id.unique().shape[0] # 10000 books"
   ]
  },
  {
   "cell_type": "code",
   "execution_count": 3,
   "metadata": {},
   "outputs": [
    {
     "data": {
      "text/html": [
       "<div>\n",
       "<style scoped>\n",
       "    .dataframe tbody tr th:only-of-type {\n",
       "        vertical-align: middle;\n",
       "    }\n",
       "\n",
       "    .dataframe tbody tr th {\n",
       "        vertical-align: top;\n",
       "    }\n",
       "\n",
       "    .dataframe thead th {\n",
       "        text-align: right;\n",
       "    }\n",
       "</style>\n",
       "<table border=\"1\" class=\"dataframe\">\n",
       "  <thead>\n",
       "    <tr style=\"text-align: right;\">\n",
       "      <th></th>\n",
       "      <th>book_id</th>\n",
       "      <th>user_id</th>\n",
       "      <th>rating</th>\n",
       "    </tr>\n",
       "  </thead>\n",
       "  <tbody>\n",
       "    <tr>\n",
       "      <th>0</th>\n",
       "      <td>1</td>\n",
       "      <td>314</td>\n",
       "      <td>5</td>\n",
       "    </tr>\n",
       "    <tr>\n",
       "      <th>1</th>\n",
       "      <td>1</td>\n",
       "      <td>439</td>\n",
       "      <td>3</td>\n",
       "    </tr>\n",
       "    <tr>\n",
       "      <th>2</th>\n",
       "      <td>1</td>\n",
       "      <td>588</td>\n",
       "      <td>5</td>\n",
       "    </tr>\n",
       "    <tr>\n",
       "      <th>3</th>\n",
       "      <td>1</td>\n",
       "      <td>1169</td>\n",
       "      <td>4</td>\n",
       "    </tr>\n",
       "    <tr>\n",
       "      <th>4</th>\n",
       "      <td>1</td>\n",
       "      <td>1185</td>\n",
       "      <td>4</td>\n",
       "    </tr>\n",
       "  </tbody>\n",
       "</table>\n",
       "</div>"
      ],
      "text/plain": [
       "   book_id  user_id  rating\n",
       "0        1      314       5\n",
       "1        1      439       3\n",
       "2        1      588       5\n",
       "3        1     1169       4\n",
       "4        1     1185       4"
      ]
     },
     "execution_count": 3,
     "metadata": {},
     "output_type": "execute_result"
    }
   ],
   "source": [
    "ratings.head()"
   ]
  },
  {
   "cell_type": "code",
   "execution_count": 4,
   "metadata": {},
   "outputs": [
    {
     "name": "stdout",
     "output_type": "stream",
     "text": [
      "The database contains ratings from 53424 users for 10000 books.\n"
     ]
    }
   ],
   "source": [
    "print(\"The database contains ratings from\", n_users, \"users for\", n_books, \"books.\")"
   ]
  },
  {
   "cell_type": "markdown",
   "metadata": {},
   "source": [
    "### Ceate user-book matrix of ratings"
   ]
  },
  {
   "cell_type": "code",
   "execution_count": 5,
   "metadata": {},
   "outputs": [
    {
     "name": "stdout",
     "output_type": "stream",
     "text": [
      "<class 'numpy.ndarray'>\n"
     ]
    }
   ],
   "source": [
    "data_matrix = np.zeros((n_users, n_books))\n",
    "for line in ratings.itertuples():\n",
    "    # equivalent to user_id as row, book_id as col, ratings as values in the matrix\n",
    "    data_matrix[line[2]-1, line[1]-1] = line[3]\n",
    "print(type(data_matrix))"
   ]
  },
  {
   "cell_type": "markdown",
   "metadata": {},
   "source": [
    "### Explore how many books each user rates"
   ]
  },
  {
   "cell_type": "code",
   "execution_count": 7,
   "metadata": {},
   "outputs": [],
   "source": [
    "user_row = 23 # set user row here, this will serve as argument in method"
   ]
  },
  {
   "cell_type": "code",
   "execution_count": 8,
   "metadata": {},
   "outputs": [
    {
     "name": "stdout",
     "output_type": "stream",
     "text": [
      "17\n"
     ]
    }
   ],
   "source": [
    "    n_books_rated = 0\n",
    "    for book in range(0, n_books):\n",
    "        if data_matrix[user_row, book] != 0:\n",
    "            n_books_rated += 1\n",
    "    print(n_books_rated)"
   ]
  },
  {
   "cell_type": "code",
   "execution_count": 9,
   "metadata": {},
   "outputs": [
    {
     "data": {
      "text/plain": [
       "17"
      ]
     },
     "execution_count": 9,
     "metadata": {},
     "output_type": "execute_result"
    }
   ],
   "source": [
    "np.count_nonzero(data_matrix[user_row])"
   ]
  },
  {
   "cell_type": "markdown",
   "metadata": {},
   "source": [
    "### Split users who rated more than 50 books, i.e. 0.5% of 10k, to be considered as \"recommender\"\n",
    "### & Save the rest of users, who did not rate many boosk, as \"recommendee\""
   ]
  },
  {
   "cell_type": "code",
   "execution_count": 10,
   "metadata": {},
   "outputs": [],
   "source": [
    "    # calculate how many books each of all users rated\n",
    "    books_rated = np.zeros(n_users)\n",
    "    for user in range(0, n_users):\n",
    "        books_rated[user] = np.count_nonzero(data_matrix[user])"
   ]
  },
  {
   "cell_type": "code",
   "execution_count": 11,
   "metadata": {},
   "outputs": [
    {
     "data": {
      "text/plain": [
       "(array([17765., 11285.,  5856.,  3906.,  2768.,  2074.,  2969.,  1893.,\n",
       "         1253.,  1595.,   866.,  1194.]),\n",
       " array([  0,   5,  10,  15,  20,  25,  30,  40,  50,  60,  80, 100, 200]),\n",
       " <a list of 12 Patch objects>)"
      ]
     },
     "execution_count": 11,
     "metadata": {},
     "output_type": "execute_result"
    },
    {
     "data": {
      "image/png": "[encoded data removed]",
      "text/plain": [
       "<Figure size 1080x360 with 1 Axes>"
      ]
     },
     "metadata": {
      "needs_background": "light"
     },
     "output_type": "display_data"
    }
   ],
   "source": [
    "    plt.figure(figsize=(15,5))\n",
    "    plt.hist(books_rated, bins = [0, 5, 10, 15, 20, 25, 30, 40, 50, 60, 80, 100, 200])"
   ]
  },
  {
   "cell_type": "code",
   "execution_count": 12,
   "metadata": {},
   "outputs": [],
   "source": [
    "    recommender = []\n",
    "    recommendee = []\n",
    "    for user in range(0, n_users):\n",
    "        if np.count_nonzero(data_matrix[user]) > 50:\n",
    "            recommender.append(data_matrix[user])\n",
    "        else:\n",
    "            recommendee.append(data_matrix[user])"
   ]
  },
  {
   "cell_type": "code",
   "execution_count": 13,
   "metadata": {},
   "outputs": [
    {
     "name": "stdout",
     "output_type": "stream",
     "text": [
      "split users to 4767 recommenders and 48657 recommendees\n"
     ]
    }
   ],
   "source": [
    "    n_recommenders = len(recommender)\n",
    "    n_recommendees = len(recommendee)\n",
    "    print(\"split users to\", n_recommenders, \"recommenders and\", n_recommendees, \"recommendees\")"
   ]
  },
  {
   "cell_type": "markdown",
   "metadata": {},
   "source": [
    "## Find cosine similarities between users\n",
    "\n",
    "##### \\begin{equation} cos(\\pmb u, \\pmb v) = \\frac {\\pmb u \\cdot \\pmb v}{||\\pmb u|| \\cdot ||\\pmb v||} \\end{equation}\n"
   ]
  },
  {
   "cell_type": "markdown",
   "metadata": {},
   "source": [
    "### Calculate magnitude of vector"
   ]
  },
  {
   "cell_type": "code",
   "execution_count": 14,
   "metadata": {},
   "outputs": [
    {
     "data": {
      "text/plain": [
       "33.689761055846034"
      ]
     },
     "execution_count": 14,
     "metadata": {},
     "output_type": "execute_result"
    }
   ],
   "source": [
    "np.linalg.norm(recommender[0]) # in case of numpy array"
   ]
  },
  {
   "cell_type": "code",
   "execution_count": 15,
   "metadata": {},
   "outputs": [],
   "source": [
    "def vector_magnitude(u):\n",
    "    # u is 1d numpy array\n",
    "    out = 0\n",
    "    for j in range(1, len(u)):\n",
    "        out += u[j]**2\n",
    "    return math.sqrt(out)"
   ]
  },
  {
   "cell_type": "code",
   "execution_count": 16,
   "metadata": {},
   "outputs": [
    {
     "data": {
      "text/plain": [
       "33.689761055846034"
      ]
     },
     "execution_count": 16,
     "metadata": {},
     "output_type": "execute_result"
    }
   ],
   "source": [
    "vector_magnitude(recommender[0])"
   ]
  },
  {
   "cell_type": "markdown",
   "metadata": {},
   "source": [
    "### Calculate dot product of two vectors"
   ]
  },
  {
   "cell_type": "code",
   "execution_count": 17,
   "metadata": {},
   "outputs": [
    {
     "data": {
      "text/plain": [
       "887.0"
      ]
     },
     "execution_count": 17,
     "metadata": {},
     "output_type": "execute_result"
    }
   ],
   "source": [
    "np.dot(recommender[2000], recommender[2000]) # in case of numpy array"
   ]
  },
  {
   "cell_type": "code",
   "execution_count": 18,
   "metadata": {},
   "outputs": [],
   "source": [
    "def dot_product(u, v):\n",
    "    out = 0\n",
    "    for j in range(1, len(u)):\n",
    "        out += u[j]*v[j]\n",
    "    return out"
   ]
  },
  {
   "cell_type": "code",
   "execution_count": 19,
   "metadata": {},
   "outputs": [
    {
     "data": {
      "text/plain": [
       "887.0"
      ]
     },
     "execution_count": 19,
     "metadata": {},
     "output_type": "execute_result"
    }
   ],
   "source": [
    "dot_product(recommender[2000], recommender[2000])"
   ]
  },
  {
   "cell_type": "markdown",
   "metadata": {},
   "source": [
    "### Calculate cosine similarity between two users, i.e. two vectors of each user ratings"
   ]
  },
  {
   "cell_type": "code",
   "execution_count": 20,
   "metadata": {},
   "outputs": [],
   "source": [
    "def cos_similar(u, v):\n",
    "    # return dot_product(u, v)/vector_magnitude(u)/vector_magnitude(v)\n",
    "    ss_u = 0\n",
    "    ss_v = 0\n",
    "    enum = 0\n",
    "    for j in range(1, len(u)):\n",
    "        ss_u += (u[j]**2)\n",
    "        ss_v += (v[j]**2)\n",
    "        enum += u[j]*v[j]\n",
    "    return enum/math.sqrt(ss_u)/math.sqrt(ss_v)"
   ]
  },
  {
   "cell_type": "code",
   "execution_count": 21,
   "metadata": {},
   "outputs": [
    {
     "data": {
      "text/plain": [
       "0.9999999999999999"
      ]
     },
     "execution_count": 21,
     "metadata": {},
     "output_type": "execute_result"
    }
   ],
   "source": [
    "cos_similar(recommender[2000], recommender[2000]) # similarity of itself"
   ]
  },
  {
   "cell_type": "code",
   "execution_count": 22,
   "metadata": {},
   "outputs": [
    {
     "data": {
      "text/plain": [
       "0.007188899706974858"
      ]
     },
     "execution_count": 22,
     "metadata": {},
     "output_type": "execute_result"
    }
   ],
   "source": [
    "cos_similar(recommender[2000], recommender[2001]) # similarity to other"
   ]
  },
  {
   "cell_type": "markdown",
   "metadata": {},
   "source": [
    "### Find the k most similar recommenders of a given recommendee"
   ]
  },
  {
   "cell_type": "code",
   "execution_count": 24,
   "metadata": {},
   "outputs": [],
   "source": [
    "recommendee_row = 23 # set user row here"
   ]
  },
  {
   "cell_type": "code",
   "execution_count": 25,
   "metadata": {},
   "outputs": [],
   "source": [
    "    similar = np.zeros(n_recommenders)\n",
    "    for user in range(0, n_recommenders):\n",
    "        similar[user] = cos_similar(recommendee[recommendee_row], recommender[user])"
   ]
  },
  {
   "cell_type": "code",
   "execution_count": 26,
   "metadata": {},
   "outputs": [
    {
     "name": "stdout",
     "output_type": "stream",
     "text": [
      "This user read 10 books.\n",
      "There are 14 users that read at least one same book as this user.\n"
     ]
    }
   ],
   "source": [
    "print(\"This user read\", np.count_nonzero(recommendee[recommendee_row]), \"books.\")\n",
    "print(\"There are\", np.count_nonzero(similar), \"users that read at least one same book as this user.\")"
   ]
  },
  {
   "cell_type": "code",
   "execution_count": 27,
   "metadata": {},
   "outputs": [
    {
     "data": {
      "text/plain": [
       "(array([0., 0., 1., 7., 6., 0.]),\n",
       " array([0.005, 0.01 , 0.02 , 0.03 , 0.05 , 0.1  , 1.   ]),\n",
       " <a list of 6 Patch objects>)"
      ]
     },
     "execution_count": 27,
     "metadata": {},
     "output_type": "execute_result"
    },
    {
     "data": {
      "image/png": "[encoded data removed]",
      "text/plain": [
       "<Figure size 432x288 with 1 Axes>"
      ]
     },
     "metadata": {
      "needs_background": "light"
     },
     "output_type": "display_data"
    }
   ],
   "source": [
    "plt.hist(similar, bins = [0.005, 0.01, 0.02, 0.03, 0.05, 0.1, 1])"
   ]
  },
  {
   "cell_type": "code",
   "execution_count": 28,
   "metadata": {},
   "outputs": [
    {
     "data": {
      "text/plain": [
       "0.06861170454139236"
      ]
     },
     "execution_count": 28,
     "metadata": {},
     "output_type": "execute_result"
    }
   ],
   "source": [
    "max(similar) # the highest cosine similarity"
   ]
  },
  {
   "cell_type": "code",
   "execution_count": 29,
   "metadata": {},
   "outputs": [
    {
     "name": "stdout",
     "output_type": "stream",
     "text": [
      "344\n"
     ]
    }
   ],
   "source": [
    "most_similar = np.where(similar == max(similar))[0][0] # the index of the most similar user (recommenders)\n",
    "print(most_similar)"
   ]
  },
  {
   "cell_type": "code",
   "execution_count": 30,
   "metadata": {},
   "outputs": [
    {
     "name": "stdout",
     "output_type": "stream",
     "text": [
      "[  26  344  693 1494 4549 4744]\n"
     ]
    }
   ],
   "source": [
    "top_similar = np.where(similar > 0.05)[0] # top similar users\n",
    "print(top_similar)"
   ]
  },
  {
   "cell_type": "code",
   "execution_count": 31,
   "metadata": {},
   "outputs": [
    {
     "name": "stdout",
     "output_type": "stream",
     "text": [
      "The most similar users/recommenders read 54 books.\n",
      "Other similar users/recommenders read 63 books.\n",
      "Other similar users/recommenders read 52 books.\n",
      "Other similar users/recommenders read 82 books.\n",
      "Other similar users/recommenders read 74 books.\n",
      "Other similar users/recommenders read 55 books.\n"
     ]
    }
   ],
   "source": [
    "print(\"The most similar users/recommenders read\", np.count_nonzero(recommender[most_similar]), \"books.\")\n",
    "for user in top_similar:\n",
    "    if user != most_similar:\n",
    "        print(\"Other similar users/recommenders read\", np.count_nonzero(recommender[user]), \"books.\")"
   ]
  },
  {
   "cell_type": "markdown",
   "metadata": {},
   "source": [
    "## Find books highly rated by similar users\n",
    "### Explore book ratings by k most similar users/recommenders"
   ]
  },
  {
   "cell_type": "code",
   "execution_count": 32,
   "metadata": {},
   "outputs": [
    {
     "data": {
      "text/plain": [
       "(array([ 1.,  3., 18., 20., 12.]),\n",
       " array([1, 2, 3, 4, 5, 6]),\n",
       " <a list of 5 Patch objects>)"
      ]
     },
     "execution_count": 32,
     "metadata": {},
     "output_type": "execute_result"
    },
    {
     "data": {
      "image/png": "[encoded data removed]",
      "text/plain": [
       "<Figure size 432x288 with 1 Axes>"
      ]
     },
     "metadata": {
      "needs_background": "light"
     },
     "output_type": "display_data"
    }
   ],
   "source": [
    "plt.hist(recommender[most_similar], bins = [1,2,3,4,5,6]) # still books with high ratings, still need to narrow down"
   ]
  },
  {
   "cell_type": "markdown",
   "metadata": {},
   "source": [
    "### Applied weighted-average of book ratings among top similar users"
   ]
  },
  {
   "cell_type": "code",
   "execution_count": 33,
   "metadata": {},
   "outputs": [
    {
     "data": {
      "text/plain": [
       "(array([16.,  1.,  0.,  0.,  0.]),\n",
       " array([1, 2, 3, 4, 5, 6]),\n",
       " <a list of 5 Patch objects>)"
      ]
     },
     "execution_count": 33,
     "metadata": {},
     "output_type": "execute_result"
    },
    {
     "data": {
      "image/png": "[encoded data removed]",
      "text/plain": [
       "<Figure size 432x288 with 1 Axes>"
      ]
     },
     "metadata": {
      "needs_background": "light"
     },
     "output_type": "display_data"
    }
   ],
   "source": [
    "books_rating = np.zeros(n_books)\n",
    "for user in top_similar:\n",
    "    books_rating += recommender[user]/len(top_similar)\n",
    "plt.hist(books_rating, bins = [1,2,3,4,5,6])"
   ]
  },
  {
   "cell_type": "code",
   "execution_count": 34,
   "metadata": {},
   "outputs": [
    {
     "name": "stdout",
     "output_type": "stream",
     "text": [
      "4335\n"
     ]
    }
   ],
   "source": [
    "best_book = np.where(books_rating == max(books_rating))[0][0]\n",
    "print(best_book)"
   ]
  },
  {
   "cell_type": "code",
   "execution_count": 35,
   "metadata": {},
   "outputs": [
    {
     "name": "stdout",
     "output_type": "stream",
     "text": [
      "[1495 1673 1799 2513 2925 2957 2968 3763 3798 4105 4335 4633 5729 9459]\n"
     ]
    }
   ],
   "source": [
    "good_book = np.where(books_rating > 1)[0]\n",
    "print(good_book)"
   ]
  },
  {
   "cell_type": "markdown",
   "metadata": {},
   "source": [
    "### Read books data to match with book id"
   ]
  },
  {
   "cell_type": "code",
   "execution_count": 36,
   "metadata": {},
   "outputs": [
    {
     "data": {
      "text/html": [
       "<div>\n",
       "<style scoped>\n",
       "    .dataframe tbody tr th:only-of-type {\n",
       "        vertical-align: middle;\n",
       "    }\n",
       "\n",
       "    .dataframe tbody tr th {\n",
       "        vertical-align: top;\n",
       "    }\n",
       "\n",
       "    .dataframe thead th {\n",
       "        text-align: right;\n",
       "    }\n",
       "</style>\n",
       "<table border=\"1\" class=\"dataframe\">\n",
       "  <thead>\n",
       "    <tr style=\"text-align: right;\">\n",
       "      <th></th>\n",
       "      <th>id</th>\n",
       "      <th>book_id</th>\n",
       "      <th>best_book_id</th>\n",
       "      <th>work_id</th>\n",
       "      <th>books_count</th>\n",
       "      <th>isbn</th>\n",
       "      <th>isbn13</th>\n",
       "      <th>authors</th>\n",
       "      <th>original_publication_year</th>\n",
       "      <th>original_title</th>\n",
       "      <th>...</th>\n",
       "      <th>ratings_count</th>\n",
       "      <th>work_ratings_count</th>\n",
       "      <th>work_text_reviews_count</th>\n",
       "      <th>ratings_1</th>\n",
       "      <th>ratings_2</th>\n",
       "      <th>ratings_3</th>\n",
       "      <th>ratings_4</th>\n",
       "      <th>ratings_5</th>\n",
       "      <th>image_url</th>\n",
       "      <th>small_image_url</th>\n",
       "    </tr>\n",
       "  </thead>\n",
       "  <tbody>\n",
       "    <tr>\n",
       "      <th>0</th>\n",
       "      <td>1</td>\n",
       "      <td>2767052</td>\n",
       "      <td>2767052</td>\n",
       "      <td>2792775</td>\n",
       "      <td>272</td>\n",
       "      <td>439023483</td>\n",
       "      <td>9.780439e+12</td>\n",
       "      <td>Suzanne Collins</td>\n",
       "      <td>2008.0</td>\n",
       "      <td>The Hunger Games</td>\n",
       "      <td>...</td>\n",
       "      <td>4780653</td>\n",
       "      <td>4942365</td>\n",
       "      <td>155254</td>\n",
       "      <td>66715</td>\n",
       "      <td>127936</td>\n",
       "      <td>560092</td>\n",
       "      <td>1481305</td>\n",
       "      <td>2706317</td>\n",
       "      <td>https://images.gr-assets.com/books/1447303603m...</td>\n",
       "      <td>https://images.gr-assets.com/books/1447303603s...</td>\n",
       "    </tr>\n",
       "    <tr>\n",
       "      <th>1</th>\n",
       "      <td>2</td>\n",
       "      <td>3</td>\n",
       "      <td>3</td>\n",
       "      <td>4640799</td>\n",
       "      <td>491</td>\n",
       "      <td>439554934</td>\n",
       "      <td>9.780440e+12</td>\n",
       "      <td>J.K. Rowling, Mary GrandPré</td>\n",
       "      <td>1997.0</td>\n",
       "      <td>Harry Potter and the Philosopher's Stone</td>\n",
       "      <td>...</td>\n",
       "      <td>4602479</td>\n",
       "      <td>4800065</td>\n",
       "      <td>75867</td>\n",
       "      <td>75504</td>\n",
       "      <td>101676</td>\n",
       "      <td>455024</td>\n",
       "      <td>1156318</td>\n",
       "      <td>3011543</td>\n",
       "      <td>https://images.gr-assets.com/books/1474154022m...</td>\n",
       "      <td>https://images.gr-assets.com/books/1474154022s...</td>\n",
       "    </tr>\n",
       "    <tr>\n",
       "      <th>2</th>\n",
       "      <td>3</td>\n",
       "      <td>41865</td>\n",
       "      <td>41865</td>\n",
       "      <td>3212258</td>\n",
       "      <td>226</td>\n",
       "      <td>316015849</td>\n",
       "      <td>9.780316e+12</td>\n",
       "      <td>Stephenie Meyer</td>\n",
       "      <td>2005.0</td>\n",
       "      <td>Twilight</td>\n",
       "      <td>...</td>\n",
       "      <td>3866839</td>\n",
       "      <td>3916824</td>\n",
       "      <td>95009</td>\n",
       "      <td>456191</td>\n",
       "      <td>436802</td>\n",
       "      <td>793319</td>\n",
       "      <td>875073</td>\n",
       "      <td>1355439</td>\n",
       "      <td>https://images.gr-assets.com/books/1361039443m...</td>\n",
       "      <td>https://images.gr-assets.com/books/1361039443s...</td>\n",
       "    </tr>\n",
       "    <tr>\n",
       "      <th>3</th>\n",
       "      <td>4</td>\n",
       "      <td>2657</td>\n",
       "      <td>2657</td>\n",
       "      <td>3275794</td>\n",
       "      <td>487</td>\n",
       "      <td>61120081</td>\n",
       "      <td>9.780061e+12</td>\n",
       "      <td>Harper Lee</td>\n",
       "      <td>1960.0</td>\n",
       "      <td>To Kill a Mockingbird</td>\n",
       "      <td>...</td>\n",
       "      <td>3198671</td>\n",
       "      <td>3340896</td>\n",
       "      <td>72586</td>\n",
       "      <td>60427</td>\n",
       "      <td>117415</td>\n",
       "      <td>446835</td>\n",
       "      <td>1001952</td>\n",
       "      <td>1714267</td>\n",
       "      <td>https://images.gr-assets.com/books/1361975680m...</td>\n",
       "      <td>https://images.gr-assets.com/books/1361975680s...</td>\n",
       "    </tr>\n",
       "    <tr>\n",
       "      <th>4</th>\n",
       "      <td>5</td>\n",
       "      <td>4671</td>\n",
       "      <td>4671</td>\n",
       "      <td>245494</td>\n",
       "      <td>1356</td>\n",
       "      <td>743273567</td>\n",
       "      <td>9.780743e+12</td>\n",
       "      <td>F. Scott Fitzgerald</td>\n",
       "      <td>1925.0</td>\n",
       "      <td>The Great Gatsby</td>\n",
       "      <td>...</td>\n",
       "      <td>2683664</td>\n",
       "      <td>2773745</td>\n",
       "      <td>51992</td>\n",
       "      <td>86236</td>\n",
       "      <td>197621</td>\n",
       "      <td>606158</td>\n",
       "      <td>936012</td>\n",
       "      <td>947718</td>\n",
       "      <td>https://images.gr-assets.com/books/1490528560m...</td>\n",
       "      <td>https://images.gr-assets.com/books/1490528560s...</td>\n",
       "    </tr>\n",
       "  </tbody>\n",
       "</table>\n",
       "<p>5 rows × 23 columns</p>\n",
       "</div>"
      ],
      "text/plain": [
       "   id  book_id  best_book_id  work_id  books_count       isbn        isbn13  \\\n",
       "0   1  2767052       2767052  2792775          272  439023483  9.780439e+12   \n",
       "1   2        3             3  4640799          491  439554934  9.780440e+12   \n",
       "2   3    41865         41865  3212258          226  316015849  9.780316e+12   \n",
       "3   4     2657          2657  3275794          487   61120081  9.780061e+12   \n",
       "4   5     4671          4671   245494         1356  743273567  9.780743e+12   \n",
       "\n",
       "                       authors  original_publication_year  \\\n",
       "0              Suzanne Collins                     2008.0   \n",
       "1  J.K. Rowling, Mary GrandPré                     1997.0   \n",
       "2              Stephenie Meyer                     2005.0   \n",
       "3                   Harper Lee                     1960.0   \n",
       "4          F. Scott Fitzgerald                     1925.0   \n",
       "\n",
       "                             original_title  ... ratings_count  \\\n",
       "0                          The Hunger Games  ...       4780653   \n",
       "1  Harry Potter and the Philosopher's Stone  ...       4602479   \n",
       "2                                  Twilight  ...       3866839   \n",
       "3                     To Kill a Mockingbird  ...       3198671   \n",
       "4                          The Great Gatsby  ...       2683664   \n",
       "\n",
       "  work_ratings_count  work_text_reviews_count  ratings_1  ratings_2  \\\n",
       "0            4942365                   155254      66715     127936   \n",
       "1            4800065                    75867      75504     101676   \n",
       "2            3916824                    95009     456191     436802   \n",
       "3            3340896                    72586      60427     117415   \n",
       "4            2773745                    51992      86236     197621   \n",
       "\n",
       "   ratings_3  ratings_4  ratings_5  \\\n",
       "0     560092    1481305    2706317   \n",
       "1     455024    1156318    3011543   \n",
       "2     793319     875073    1355439   \n",
       "3     446835    1001952    1714267   \n",
       "4     606158     936012     947718   \n",
       "\n",
       "                                           image_url  \\\n",
       "0  https://images.gr-assets.com/books/1447303603m...   \n",
       "1  https://images.gr-assets.com/books/1474154022m...   \n",
       "2  https://images.gr-assets.com/books/1361039443m...   \n",
       "3  https://images.gr-assets.com/books/1361975680m...   \n",
       "4  https://images.gr-assets.com/books/1490528560m...   \n",
       "\n",
       "                                     small_image_url  \n",
       "0  https://images.gr-assets.com/books/1447303603s...  \n",
       "1  https://images.gr-assets.com/books/1474154022s...  \n",
       "2  https://images.gr-assets.com/books/1361039443s...  \n",
       "3  https://images.gr-assets.com/books/1361975680s...  \n",
       "4  https://images.gr-assets.com/books/1490528560s...  \n",
       "\n",
       "[5 rows x 23 columns]"
      ]
     },
     "execution_count": 36,
     "metadata": {},
     "output_type": "execute_result"
    }
   ],
   "source": [
    "    books = pd.read_csv(\"data/books.csv\")\n",
    "    books.head()"
   ]
  },
  {
   "cell_type": "code",
   "execution_count": 37,
   "metadata": {},
   "outputs": [
    {
     "data": {
      "text/html": [
       "<div>\n",
       "<style scoped>\n",
       "    .dataframe tbody tr th:only-of-type {\n",
       "        vertical-align: middle;\n",
       "    }\n",
       "\n",
       "    .dataframe tbody tr th {\n",
       "        vertical-align: top;\n",
       "    }\n",
       "\n",
       "    .dataframe thead th {\n",
       "        text-align: right;\n",
       "    }\n",
       "</style>\n",
       "<table border=\"1\" class=\"dataframe\">\n",
       "  <thead>\n",
       "    <tr style=\"text-align: right;\">\n",
       "      <th></th>\n",
       "      <th>id</th>\n",
       "      <th>book_id</th>\n",
       "      <th>best_book_id</th>\n",
       "      <th>work_id</th>\n",
       "      <th>books_count</th>\n",
       "      <th>isbn</th>\n",
       "      <th>isbn13</th>\n",
       "      <th>authors</th>\n",
       "      <th>original_publication_year</th>\n",
       "      <th>original_title</th>\n",
       "      <th>...</th>\n",
       "      <th>ratings_count</th>\n",
       "      <th>work_ratings_count</th>\n",
       "      <th>work_text_reviews_count</th>\n",
       "      <th>ratings_1</th>\n",
       "      <th>ratings_2</th>\n",
       "      <th>ratings_3</th>\n",
       "      <th>ratings_4</th>\n",
       "      <th>ratings_5</th>\n",
       "      <th>image_url</th>\n",
       "      <th>small_image_url</th>\n",
       "    </tr>\n",
       "  </thead>\n",
       "  <tbody>\n",
       "    <tr>\n",
       "      <th>4334</th>\n",
       "      <td>4335</td>\n",
       "      <td>5556466</td>\n",
       "      <td>5556466</td>\n",
       "      <td>5727588</td>\n",
       "      <td>52</td>\n",
       "      <td>312359322</td>\n",
       "      <td>9.780312e+12</td>\n",
       "      <td>John Hart</td>\n",
       "      <td>2009.0</td>\n",
       "      <td>The Last Child</td>\n",
       "      <td>...</td>\n",
       "      <td>22293</td>\n",
       "      <td>25587</td>\n",
       "      <td>3369</td>\n",
       "      <td>255</td>\n",
       "      <td>826</td>\n",
       "      <td>4458</td>\n",
       "      <td>10854</td>\n",
       "      <td>9194</td>\n",
       "      <td>https://images.gr-assets.com/books/1312058481m...</td>\n",
       "      <td>https://images.gr-assets.com/books/1312058481s...</td>\n",
       "    </tr>\n",
       "  </tbody>\n",
       "</table>\n",
       "<p>1 rows × 23 columns</p>\n",
       "</div>"
      ],
      "text/plain": [
       "        id  book_id  best_book_id  work_id  books_count       isbn  \\\n",
       "4334  4335  5556466       5556466  5727588           52  312359322   \n",
       "\n",
       "            isbn13    authors  original_publication_year  original_title  ...  \\\n",
       "4334  9.780312e+12  John Hart                     2009.0  The Last Child  ...   \n",
       "\n",
       "     ratings_count work_ratings_count  work_text_reviews_count  ratings_1  \\\n",
       "4334         22293              25587                     3369        255   \n",
       "\n",
       "      ratings_2  ratings_3  ratings_4  ratings_5  \\\n",
       "4334        826       4458      10854       9194   \n",
       "\n",
       "                                              image_url  \\\n",
       "4334  https://images.gr-assets.com/books/1312058481m...   \n",
       "\n",
       "                                        small_image_url  \n",
       "4334  https://images.gr-assets.com/books/1312058481s...  \n",
       "\n",
       "[1 rows x 23 columns]"
      ]
     },
     "execution_count": 37,
     "metadata": {},
     "output_type": "execute_result"
    }
   ],
   "source": [
    "books.loc[books['id']==best_book]"
   ]
  },
  {
   "cell_type": "code",
   "execution_count": 38,
   "metadata": {},
   "outputs": [
    {
     "data": {
      "text/html": [
       "<div>\n",
       "<style scoped>\n",
       "    .dataframe tbody tr th:only-of-type {\n",
       "        vertical-align: middle;\n",
       "    }\n",
       "\n",
       "    .dataframe tbody tr th {\n",
       "        vertical-align: top;\n",
       "    }\n",
       "\n",
       "    .dataframe thead th {\n",
       "        text-align: right;\n",
       "    }\n",
       "</style>\n",
       "<table border=\"1\" class=\"dataframe\">\n",
       "  <thead>\n",
       "    <tr style=\"text-align: right;\">\n",
       "      <th></th>\n",
       "      <th>id</th>\n",
       "      <th>book_id</th>\n",
       "      <th>best_book_id</th>\n",
       "      <th>work_id</th>\n",
       "      <th>books_count</th>\n",
       "      <th>isbn</th>\n",
       "      <th>isbn13</th>\n",
       "      <th>authors</th>\n",
       "      <th>original_publication_year</th>\n",
       "      <th>original_title</th>\n",
       "      <th>...</th>\n",
       "      <th>ratings_count</th>\n",
       "      <th>work_ratings_count</th>\n",
       "      <th>work_text_reviews_count</th>\n",
       "      <th>ratings_1</th>\n",
       "      <th>ratings_2</th>\n",
       "      <th>ratings_3</th>\n",
       "      <th>ratings_4</th>\n",
       "      <th>ratings_5</th>\n",
       "      <th>image_url</th>\n",
       "      <th>small_image_url</th>\n",
       "    </tr>\n",
       "  </thead>\n",
       "  <tbody>\n",
       "    <tr>\n",
       "      <th>1494</th>\n",
       "      <td>1495</td>\n",
       "      <td>87640</td>\n",
       "      <td>87640</td>\n",
       "      <td>84604</td>\n",
       "      <td>7</td>\n",
       "      <td>60899190</td>\n",
       "      <td>9.780061e+12</td>\n",
       "      <td>Frank Warren</td>\n",
       "      <td>2005.0</td>\n",
       "      <td>PostSecret: Extraordinary Confessions from Ord...</td>\n",
       "      <td>...</td>\n",
       "      <td>58841</td>\n",
       "      <td>59379</td>\n",
       "      <td>1061</td>\n",
       "      <td>2911</td>\n",
       "      <td>3039</td>\n",
       "      <td>10287</td>\n",
       "      <td>17389</td>\n",
       "      <td>25753</td>\n",
       "      <td>https://s.gr-assets.com/assets/nophoto/book/11...</td>\n",
       "      <td>https://s.gr-assets.com/assets/nophoto/book/50...</td>\n",
       "    </tr>\n",
       "    <tr>\n",
       "      <th>1672</th>\n",
       "      <td>1673</td>\n",
       "      <td>18149927</td>\n",
       "      <td>18149927</td>\n",
       "      <td>21996351</td>\n",
       "      <td>38</td>\n",
       "      <td>NaN</td>\n",
       "      <td>NaN</td>\n",
       "      <td>Jodi Ellen Malpas</td>\n",
       "      <td>2013.0</td>\n",
       "      <td>Beneath This Man</td>\n",
       "      <td>...</td>\n",
       "      <td>44170</td>\n",
       "      <td>74457</td>\n",
       "      <td>3703</td>\n",
       "      <td>1532</td>\n",
       "      <td>2681</td>\n",
       "      <td>8933</td>\n",
       "      <td>19848</td>\n",
       "      <td>41463</td>\n",
       "      <td>https://images.gr-assets.com/books/1372773964m...</td>\n",
       "      <td>https://images.gr-assets.com/books/1372773964s...</td>\n",
       "    </tr>\n",
       "    <tr>\n",
       "      <th>1798</th>\n",
       "      <td>1799</td>\n",
       "      <td>8428064</td>\n",
       "      <td>8428064</td>\n",
       "      <td>11015791</td>\n",
       "      <td>46</td>\n",
       "      <td>1423121317</td>\n",
       "      <td>9.781423e+12</td>\n",
       "      <td>Rachel Hawkins</td>\n",
       "      <td>2011.0</td>\n",
       "      <td>Demonglass</td>\n",
       "      <td>...</td>\n",
       "      <td>74589</td>\n",
       "      <td>77626</td>\n",
       "      <td>4496</td>\n",
       "      <td>1036</td>\n",
       "      <td>2945</td>\n",
       "      <td>14055</td>\n",
       "      <td>26694</td>\n",
       "      <td>32896</td>\n",
       "      <td>https://images.gr-assets.com/books/1287692542m...</td>\n",
       "      <td>https://images.gr-assets.com/books/1287692542s...</td>\n",
       "    </tr>\n",
       "    <tr>\n",
       "      <th>2512</th>\n",
       "      <td>2513</td>\n",
       "      <td>10607</td>\n",
       "      <td>10607</td>\n",
       "      <td>1738813</td>\n",
       "      <td>104</td>\n",
       "      <td>034547063X</td>\n",
       "      <td>9.780345e+12</td>\n",
       "      <td>Stephen King, Peter Straub</td>\n",
       "      <td>2001.0</td>\n",
       "      <td>Black House</td>\n",
       "      <td>...</td>\n",
       "      <td>40734</td>\n",
       "      <td>44826</td>\n",
       "      <td>1227</td>\n",
       "      <td>722</td>\n",
       "      <td>2405</td>\n",
       "      <td>9632</td>\n",
       "      <td>15995</td>\n",
       "      <td>16072</td>\n",
       "      <td>https://s.gr-assets.com/assets/nophoto/book/11...</td>\n",
       "      <td>https://s.gr-assets.com/assets/nophoto/book/50...</td>\n",
       "    </tr>\n",
       "    <tr>\n",
       "      <th>2924</th>\n",
       "      <td>2925</td>\n",
       "      <td>6534932</td>\n",
       "      <td>6534932</td>\n",
       "      <td>6727073</td>\n",
       "      <td>11</td>\n",
       "      <td>345518519</td>\n",
       "      <td>9.780346e+12</td>\n",
       "      <td>Kathy Griffin</td>\n",
       "      <td>2009.0</td>\n",
       "      <td>Official Book Club Selection: A Memoir Accordi...</td>\n",
       "      <td>...</td>\n",
       "      <td>31685</td>\n",
       "      <td>32718</td>\n",
       "      <td>1426</td>\n",
       "      <td>1304</td>\n",
       "      <td>2120</td>\n",
       "      <td>8243</td>\n",
       "      <td>11250</td>\n",
       "      <td>9801</td>\n",
       "      <td>https://s.gr-assets.com/assets/nophoto/book/11...</td>\n",
       "      <td>https://s.gr-assets.com/assets/nophoto/book/50...</td>\n",
       "    </tr>\n",
       "    <tr>\n",
       "      <th>2956</th>\n",
       "      <td>2957</td>\n",
       "      <td>121732</td>\n",
       "      <td>121732</td>\n",
       "      <td>877675</td>\n",
       "      <td>77</td>\n",
       "      <td>6280838</td>\n",
       "      <td>9.780006e+12</td>\n",
       "      <td>C.S. Lewis</td>\n",
       "      <td>1955.0</td>\n",
       "      <td>Surprised by Joy: The Shape of My Early Life</td>\n",
       "      <td>...</td>\n",
       "      <td>33698</td>\n",
       "      <td>35986</td>\n",
       "      <td>1156</td>\n",
       "      <td>612</td>\n",
       "      <td>1261</td>\n",
       "      <td>6142</td>\n",
       "      <td>12367</td>\n",
       "      <td>15604</td>\n",
       "      <td>https://images.gr-assets.com/books/1381407473m...</td>\n",
       "      <td>https://images.gr-assets.com/books/1381407473s...</td>\n",
       "    </tr>\n",
       "    <tr>\n",
       "      <th>2967</th>\n",
       "      <td>2968</td>\n",
       "      <td>833710</td>\n",
       "      <td>833710</td>\n",
       "      <td>1726608</td>\n",
       "      <td>46</td>\n",
       "      <td>743437314</td>\n",
       "      <td>9.780743e+12</td>\n",
       "      <td>D.J. MacHale</td>\n",
       "      <td>2002.0</td>\n",
       "      <td>The Merchant of Death</td>\n",
       "      <td>...</td>\n",
       "      <td>38633</td>\n",
       "      <td>40104</td>\n",
       "      <td>1723</td>\n",
       "      <td>1135</td>\n",
       "      <td>2545</td>\n",
       "      <td>8772</td>\n",
       "      <td>13355</td>\n",
       "      <td>14297</td>\n",
       "      <td>https://images.gr-assets.com/books/1351196725m...</td>\n",
       "      <td>https://images.gr-assets.com/books/1351196725s...</td>\n",
       "    </tr>\n",
       "    <tr>\n",
       "      <th>3762</th>\n",
       "      <td>3763</td>\n",
       "      <td>331319</td>\n",
       "      <td>331319</td>\n",
       "      <td>6170936</td>\n",
       "      <td>139</td>\n",
       "      <td>451527704</td>\n",
       "      <td>9.780452e+12</td>\n",
       "      <td>Theodore Dreiser, Richard R. Lingeman</td>\n",
       "      <td>1925.0</td>\n",
       "      <td>An American Tragedy</td>\n",
       "      <td>...</td>\n",
       "      <td>25665</td>\n",
       "      <td>26988</td>\n",
       "      <td>956</td>\n",
       "      <td>752</td>\n",
       "      <td>1697</td>\n",
       "      <td>5683</td>\n",
       "      <td>9246</td>\n",
       "      <td>9610</td>\n",
       "      <td>https://images.gr-assets.com/books/1309283443m...</td>\n",
       "      <td>https://images.gr-assets.com/books/1309283443s...</td>\n",
       "    </tr>\n",
       "    <tr>\n",
       "      <th>3797</th>\n",
       "      <td>3798</td>\n",
       "      <td>11100431</td>\n",
       "      <td>11100431</td>\n",
       "      <td>16022532</td>\n",
       "      <td>19</td>\n",
       "      <td>316187712</td>\n",
       "      <td>9.780316e+12</td>\n",
       "      <td>Michael J. Sullivan</td>\n",
       "      <td>2012.0</td>\n",
       "      <td>Heir of Novron</td>\n",
       "      <td>...</td>\n",
       "      <td>25185</td>\n",
       "      <td>28151</td>\n",
       "      <td>1507</td>\n",
       "      <td>119</td>\n",
       "      <td>344</td>\n",
       "      <td>2314</td>\n",
       "      <td>8956</td>\n",
       "      <td>16418</td>\n",
       "      <td>https://images.gr-assets.com/books/1307960132m...</td>\n",
       "      <td>https://images.gr-assets.com/books/1307960132s...</td>\n",
       "    </tr>\n",
       "    <tr>\n",
       "      <th>4104</th>\n",
       "      <td>4105</td>\n",
       "      <td>84144</td>\n",
       "      <td>84144</td>\n",
       "      <td>81234</td>\n",
       "      <td>35</td>\n",
       "      <td>749935871</td>\n",
       "      <td>9.780750e+12</td>\n",
       "      <td>Sherrilyn Kenyon</td>\n",
       "      <td>2004.0</td>\n",
       "      <td>Seize the Night</td>\n",
       "      <td>...</td>\n",
       "      <td>29053</td>\n",
       "      <td>39269</td>\n",
       "      <td>1209</td>\n",
       "      <td>148</td>\n",
       "      <td>594</td>\n",
       "      <td>4920</td>\n",
       "      <td>13034</td>\n",
       "      <td>20573</td>\n",
       "      <td>https://images.gr-assets.com/books/1348418164m...</td>\n",
       "      <td>https://images.gr-assets.com/books/1348418164s...</td>\n",
       "    </tr>\n",
       "    <tr>\n",
       "      <th>4334</th>\n",
       "      <td>4335</td>\n",
       "      <td>5556466</td>\n",
       "      <td>5556466</td>\n",
       "      <td>5727588</td>\n",
       "      <td>52</td>\n",
       "      <td>312359322</td>\n",
       "      <td>9.780312e+12</td>\n",
       "      <td>John Hart</td>\n",
       "      <td>2009.0</td>\n",
       "      <td>The Last Child</td>\n",
       "      <td>...</td>\n",
       "      <td>22293</td>\n",
       "      <td>25587</td>\n",
       "      <td>3369</td>\n",
       "      <td>255</td>\n",
       "      <td>826</td>\n",
       "      <td>4458</td>\n",
       "      <td>10854</td>\n",
       "      <td>9194</td>\n",
       "      <td>https://images.gr-assets.com/books/1312058481m...</td>\n",
       "      <td>https://images.gr-assets.com/books/1312058481s...</td>\n",
       "    </tr>\n",
       "    <tr>\n",
       "      <th>4632</th>\n",
       "      <td>4633</td>\n",
       "      <td>206682</td>\n",
       "      <td>206682</td>\n",
       "      <td>2283550</td>\n",
       "      <td>68</td>\n",
       "      <td>385518331</td>\n",
       "      <td>9.780386e+12</td>\n",
       "      <td>Jeff Lindsay</td>\n",
       "      <td>2006.0</td>\n",
       "      <td>Dexter in the Dark</td>\n",
       "      <td>...</td>\n",
       "      <td>22484</td>\n",
       "      <td>25629</td>\n",
       "      <td>1656</td>\n",
       "      <td>986</td>\n",
       "      <td>3302</td>\n",
       "      <td>8513</td>\n",
       "      <td>7839</td>\n",
       "      <td>4989</td>\n",
       "      <td>https://s.gr-assets.com/assets/nophoto/book/11...</td>\n",
       "      <td>https://s.gr-assets.com/assets/nophoto/book/50...</td>\n",
       "    </tr>\n",
       "    <tr>\n",
       "      <th>5728</th>\n",
       "      <td>5729</td>\n",
       "      <td>7129598</td>\n",
       "      <td>7129598</td>\n",
       "      <td>7391743</td>\n",
       "      <td>10</td>\n",
       "      <td>1442402008</td>\n",
       "      <td>9.781442e+12</td>\n",
       "      <td>Kelly Creagh</td>\n",
       "      <td>2010.0</td>\n",
       "      <td>Nevermore</td>\n",
       "      <td>...</td>\n",
       "      <td>24570</td>\n",
       "      <td>25502</td>\n",
       "      <td>2473</td>\n",
       "      <td>1247</td>\n",
       "      <td>2177</td>\n",
       "      <td>5169</td>\n",
       "      <td>6910</td>\n",
       "      <td>9999</td>\n",
       "      <td>https://images.gr-assets.com/books/1294381693m...</td>\n",
       "      <td>https://images.gr-assets.com/books/1294381693s...</td>\n",
       "    </tr>\n",
       "    <tr>\n",
       "      <th>9458</th>\n",
       "      <td>9459</td>\n",
       "      <td>18420</td>\n",
       "      <td>18420</td>\n",
       "      <td>2126028</td>\n",
       "      <td>24</td>\n",
       "      <td>553345397</td>\n",
       "      <td>9.780553e+12</td>\n",
       "      <td>Barbara Ann Brennan, Jos. A. Smith</td>\n",
       "      <td>1987.0</td>\n",
       "      <td>Hands of Light: A Guide to Healing Through the...</td>\n",
       "      <td>...</td>\n",
       "      <td>9016</td>\n",
       "      <td>9183</td>\n",
       "      <td>116</td>\n",
       "      <td>105</td>\n",
       "      <td>278</td>\n",
       "      <td>1400</td>\n",
       "      <td>2684</td>\n",
       "      <td>4716</td>\n",
       "      <td>https://images.gr-assets.com/books/1320544153m...</td>\n",
       "      <td>https://images.gr-assets.com/books/1320544153s...</td>\n",
       "    </tr>\n",
       "  </tbody>\n",
       "</table>\n",
       "<p>14 rows × 23 columns</p>\n",
       "</div>"
      ],
      "text/plain": [
       "        id   book_id  best_book_id   work_id  books_count        isbn  \\\n",
       "1494  1495     87640         87640     84604            7    60899190   \n",
       "1672  1673  18149927      18149927  21996351           38         NaN   \n",
       "1798  1799   8428064       8428064  11015791           46  1423121317   \n",
       "2512  2513     10607         10607   1738813          104  034547063X   \n",
       "2924  2925   6534932       6534932   6727073           11   345518519   \n",
       "2956  2957    121732        121732    877675           77     6280838   \n",
       "2967  2968    833710        833710   1726608           46   743437314   \n",
       "3762  3763    331319        331319   6170936          139   451527704   \n",
       "3797  3798  11100431      11100431  16022532           19   316187712   \n",
       "4104  4105     84144         84144     81234           35   749935871   \n",
       "4334  4335   5556466       5556466   5727588           52   312359322   \n",
       "4632  4633    206682        206682   2283550           68   385518331   \n",
       "5728  5729   7129598       7129598   7391743           10  1442402008   \n",
       "9458  9459     18420         18420   2126028           24   553345397   \n",
       "\n",
       "            isbn13                                authors  \\\n",
       "1494  9.780061e+12                           Frank Warren   \n",
       "1672           NaN                      Jodi Ellen Malpas   \n",
       "1798  9.781423e+12                         Rachel Hawkins   \n",
       "2512  9.780345e+12             Stephen King, Peter Straub   \n",
       "2924  9.780346e+12                          Kathy Griffin   \n",
       "2956  9.780006e+12                             C.S. Lewis   \n",
       "2967  9.780743e+12                           D.J. MacHale   \n",
       "3762  9.780452e+12  Theodore Dreiser, Richard R. Lingeman   \n",
       "3797  9.780316e+12                    Michael J. Sullivan   \n",
       "4104  9.780750e+12                       Sherrilyn Kenyon   \n",
       "4334  9.780312e+12                              John Hart   \n",
       "4632  9.780386e+12                           Jeff Lindsay   \n",
       "5728  9.781442e+12                           Kelly Creagh   \n",
       "9458  9.780553e+12     Barbara Ann Brennan, Jos. A. Smith   \n",
       "\n",
       "      original_publication_year  \\\n",
       "1494                     2005.0   \n",
       "1672                     2013.0   \n",
       "1798                     2011.0   \n",
       "2512                     2001.0   \n",
       "2924                     2009.0   \n",
       "2956                     1955.0   \n",
       "2967                     2002.0   \n",
       "3762                     1925.0   \n",
       "3797                     2012.0   \n",
       "4104                     2004.0   \n",
       "4334                     2009.0   \n",
       "4632                     2006.0   \n",
       "5728                     2010.0   \n",
       "9458                     1987.0   \n",
       "\n",
       "                                         original_title  ... ratings_count  \\\n",
       "1494  PostSecret: Extraordinary Confessions from Ord...  ...         58841   \n",
       "1672                                  Beneath This Man   ...         44170   \n",
       "1798                                         Demonglass  ...         74589   \n",
       "2512                                       Black House   ...         40734   \n",
       "2924  Official Book Club Selection: A Memoir Accordi...  ...         31685   \n",
       "2956       Surprised by Joy: The Shape of My Early Life  ...         33698   \n",
       "2967                              The Merchant of Death  ...         38633   \n",
       "3762                               An American Tragedy   ...         25665   \n",
       "3797                                     Heir of Novron  ...         25185   \n",
       "4104                                    Seize the Night  ...         29053   \n",
       "4334                                     The Last Child  ...         22293   \n",
       "4632                                 Dexter in the Dark  ...         22484   \n",
       "5728                                          Nevermore  ...         24570   \n",
       "9458  Hands of Light: A Guide to Healing Through the...  ...          9016   \n",
       "\n",
       "     work_ratings_count  work_text_reviews_count  ratings_1  ratings_2  \\\n",
       "1494              59379                     1061       2911       3039   \n",
       "1672              74457                     3703       1532       2681   \n",
       "1798              77626                     4496       1036       2945   \n",
       "2512              44826                     1227        722       2405   \n",
       "2924              32718                     1426       1304       2120   \n",
       "2956              35986                     1156        612       1261   \n",
       "2967              40104                     1723       1135       2545   \n",
       "3762              26988                      956        752       1697   \n",
       "3797              28151                     1507        119        344   \n",
       "4104              39269                     1209        148        594   \n",
       "4334              25587                     3369        255        826   \n",
       "4632              25629                     1656        986       3302   \n",
       "5728              25502                     2473       1247       2177   \n",
       "9458               9183                      116        105        278   \n",
       "\n",
       "      ratings_3  ratings_4  ratings_5  \\\n",
       "1494      10287      17389      25753   \n",
       "1672       8933      19848      41463   \n",
       "1798      14055      26694      32896   \n",
       "2512       9632      15995      16072   \n",
       "2924       8243      11250       9801   \n",
       "2956       6142      12367      15604   \n",
       "2967       8772      13355      14297   \n",
       "3762       5683       9246       9610   \n",
       "3797       2314       8956      16418   \n",
       "4104       4920      13034      20573   \n",
       "4334       4458      10854       9194   \n",
       "4632       8513       7839       4989   \n",
       "5728       5169       6910       9999   \n",
       "9458       1400       2684       4716   \n",
       "\n",
       "                                              image_url  \\\n",
       "1494  https://s.gr-assets.com/assets/nophoto/book/11...   \n",
       "1672  https://images.gr-assets.com/books/1372773964m...   \n",
       "1798  https://images.gr-assets.com/books/1287692542m...   \n",
       "2512  https://s.gr-assets.com/assets/nophoto/book/11...   \n",
       "2924  https://s.gr-assets.com/assets/nophoto/book/11...   \n",
       "2956  https://images.gr-assets.com/books/1381407473m...   \n",
       "2967  https://images.gr-assets.com/books/1351196725m...   \n",
       "3762  https://images.gr-assets.com/books/1309283443m...   \n",
       "3797  https://images.gr-assets.com/books/1307960132m...   \n",
       "4104  https://images.gr-assets.com/books/1348418164m...   \n",
       "4334  https://images.gr-assets.com/books/1312058481m...   \n",
       "4632  https://s.gr-assets.com/assets/nophoto/book/11...   \n",
       "5728  https://images.gr-assets.com/books/1294381693m...   \n",
       "9458  https://images.gr-assets.com/books/1320544153m...   \n",
       "\n",
       "                                        small_image_url  \n",
       "1494  https://s.gr-assets.com/assets/nophoto/book/50...  \n",
       "1672  https://images.gr-assets.com/books/1372773964s...  \n",
       "1798  https://images.gr-assets.com/books/1287692542s...  \n",
       "2512  https://s.gr-assets.com/assets/nophoto/book/50...  \n",
       "2924  https://s.gr-assets.com/assets/nophoto/book/50...  \n",
       "2956  https://images.gr-assets.com/books/1381407473s...  \n",
       "2967  https://images.gr-assets.com/books/1351196725s...  \n",
       "3762  https://images.gr-assets.com/books/1309283443s...  \n",
       "3797  https://images.gr-assets.com/books/1307960132s...  \n",
       "4104  https://images.gr-assets.com/books/1348418164s...  \n",
       "4334  https://images.gr-assets.com/books/1312058481s...  \n",
       "4632  https://s.gr-assets.com/assets/nophoto/book/50...  \n",
       "5728  https://images.gr-assets.com/books/1294381693s...  \n",
       "9458  https://images.gr-assets.com/books/1320544153s...  \n",
       "\n",
       "[14 rows x 23 columns]"
      ]
     },
     "execution_count": 38,
     "metadata": {},
     "output_type": "execute_result"
    }
   ],
   "source": [
    "books.loc[books['id'].isin(good_book)]"
   ]
  },
  {
   "cell_type": "code",
   "execution_count": null,
   "metadata": {},
   "outputs": [],
   "source": []
  }
 ],
 "metadata": {
  "kernelspec": {
   "display_name": "Python 3",
   "language": "python",
   "name": "python3"
  },
  "language_info": {
   "codemirror_mode": {
    "name": "ipython",
    "version": 3
   },
   "file_extension": ".py",
   "mimetype": "text/x-python",
   "name": "python",
   "nbconvert_exporter": "python",
   "pygments_lexer": "ipython3",
   "version": "3.7.6"
  }
 },
 "nbformat": 4,
 "nbformat_minor": 4
}
